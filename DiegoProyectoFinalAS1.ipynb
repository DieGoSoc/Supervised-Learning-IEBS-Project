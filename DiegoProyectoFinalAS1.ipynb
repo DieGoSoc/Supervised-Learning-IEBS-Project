{
  "nbformat": 4,
  "nbformat_minor": 0,
  "metadata": {
    "colab": {
      "name": "DiegoProyectoFinalAS1.ipynb",
      "provenance": [],
      "collapsed_sections": [],
      "toc_visible": true,
      "include_colab_link": true
    },
    "kernelspec": {
      "name": "python3",
      "display_name": "Python 3"
    },
    "language_info": {
      "name": "python"
    }
  },
  "cells": [
    {
      "cell_type": "markdown",
      "metadata": {
        "id": "view-in-github",
        "colab_type": "text"
      },
      "source": [
        "<a href=\"https://colab.research.google.com/github/DieGoSoc/Supervised-Learning-IEBS-Project/blob/main/DiegoProyectoFinalAS1.ipynb\" target=\"_parent\"><img src=\"https://colab.research.google.com/assets/colab-badge.svg\" alt=\"Open In Colab\"/></a>"
      ]
    },
    {
      "cell_type": "markdown",
      "source": [
        "#**PROYECTO AS: Aprendizaje supervisado para evaluar la salud de un bebé durante el parto**\n"
      ],
      "metadata": {
        "id": "oGPwyfBQBu--"
      }
    },
    {
      "cell_type": "markdown",
      "source": [
        "##Diego Andrés Dorrego Carril"
      ],
      "metadata": {
        "id": "4C9GuMdapZZZ"
      }
    },
    {
      "cell_type": "markdown",
      "source": [
        "#Introducción"
      ],
      "metadata": {
        "id": "ALJF9LC3VTuk"
      }
    },
    {
      "cell_type": "markdown",
      "source": [
        "El cardiotocógrafo fetal (CTG) sirve como herramienta de seguimiento durante el parto para evaluar el estado de salud del bebé durante el nacimiento. Con ello pueden llegar a tratarse distintas complicaciones durante el parto que pueden derivar en consecuencias como la mortalidad perinatal.\n",
        "\n",
        "Trataremos con una base de datos donde se recogen datos de 2.162 cardiotocogramas fetales (CTG). Para cada CTG se representan un conjunto de variables explicativas que va a permitir estimar el estado fetal (target) en normal o anormal. Se realizarán ajustes de los algoritmos de clasificación de Naive Bayes y SVM para intentar predecir, en base a unas variables explicativas, el estado del feto. "
      ],
      "metadata": {
        "id": "SmNkSLuePfZ4"
      }
    },
    {
      "cell_type": "markdown",
      "source": [
        "#FASE 1: Carga de datos y análisis descriptivo"
      ],
      "metadata": {
        "id": "utEuCLRdd2q1"
      }
    },
    {
      "cell_type": "markdown",
      "source": [
        "En primer lugar, cargamos las librerías necesarias y la base de datos con la que trabajaremos. "
      ],
      "metadata": {
        "id": "8IeEu1kbDEcD"
      }
    },
    {
      "cell_type": "code",
      "execution_count": null,
      "metadata": {
        "id": "_07Nv5VWm0gj"
      },
      "outputs": [],
      "source": [
        "#Cargamos librerías para el análisis estadístico\n",
        "import numpy as np\n",
        "import pandas as pd\n",
        "\n",
        "#Cargamos librerías para la visualización de datos\n",
        "import seaborn as sns\n",
        "import matplotlib.pyplot as plt\n",
        "import plotly.express as xp\n"
      ]
    },
    {
      "cell_type": "code",
      "source": [
        "#Cargamos el fichero y comprobamos si se ha cargado correctamente\n",
        "file = '/content/ASI_casoPractico.csv'\n",
        "data = pd.read_csv(file, sep = ';')\n",
        "data.head()"
      ],
      "metadata": {
        "colab": {
          "base_uri": "https://localhost:8080/",
          "height": 235
        },
        "id": "JJwXKtmsnffQ",
        "outputId": "b081a5a1-bcbd-4070-b725-dec83af3d88e"
      },
      "execution_count": null,
      "outputs": [
        {
          "output_type": "execute_result",
          "data": {
            "text/plain": [
              "   ID    b     e  LBE  AC  FM  UC  ASTV  MSTV  ALTV  ...  Min  Max  Nmax  \\\n",
              "0   1  240   357  120   0   0   0    73   0.5    43  ...   62  126     2   \n",
              "1   2    5   632  132   4   0   4    17   2.1     0  ...   68  198     6   \n",
              "2   3  177   779  133   2   0   5    16   2.1     0  ...   68  198     5   \n",
              "3   4  411  1192  134   2   0   6    16   2.4     0  ...   53  170    11   \n",
              "4   5  533  1147  132   4   0   5    16   2.4     0  ...   53  170     9   \n",
              "\n",
              "   Nzeros  Mode  Mean  Median  Variance  Tendency  Target  \n",
              "0       0   120   137     121        73         1       1  \n",
              "1       1   141   136     140        12         0       0  \n",
              "2       1   141   135     138        13         0       0  \n",
              "3       0   137   134     137        13         1       0  \n",
              "4       0   137   136     138        11         1       0  \n",
              "\n",
              "[5 rows x 26 columns]"
            ],
            "text/html": [
              "\n",
              "  <div id=\"df-149f742d-b6a8-43a1-8bb1-a2bcf742dece\">\n",
              "    <div class=\"colab-df-container\">\n",
              "      <div>\n",
              "<style scoped>\n",
              "    .dataframe tbody tr th:only-of-type {\n",
              "        vertical-align: middle;\n",
              "    }\n",
              "\n",
              "    .dataframe tbody tr th {\n",
              "        vertical-align: top;\n",
              "    }\n",
              "\n",
              "    .dataframe thead th {\n",
              "        text-align: right;\n",
              "    }\n",
              "</style>\n",
              "<table border=\"1\" class=\"dataframe\">\n",
              "  <thead>\n",
              "    <tr style=\"text-align: right;\">\n",
              "      <th></th>\n",
              "      <th>ID</th>\n",
              "      <th>b</th>\n",
              "      <th>e</th>\n",
              "      <th>LBE</th>\n",
              "      <th>AC</th>\n",
              "      <th>FM</th>\n",
              "      <th>UC</th>\n",
              "      <th>ASTV</th>\n",
              "      <th>MSTV</th>\n",
              "      <th>ALTV</th>\n",
              "      <th>...</th>\n",
              "      <th>Min</th>\n",
              "      <th>Max</th>\n",
              "      <th>Nmax</th>\n",
              "      <th>Nzeros</th>\n",
              "      <th>Mode</th>\n",
              "      <th>Mean</th>\n",
              "      <th>Median</th>\n",
              "      <th>Variance</th>\n",
              "      <th>Tendency</th>\n",
              "      <th>Target</th>\n",
              "    </tr>\n",
              "  </thead>\n",
              "  <tbody>\n",
              "    <tr>\n",
              "      <th>0</th>\n",
              "      <td>1</td>\n",
              "      <td>240</td>\n",
              "      <td>357</td>\n",
              "      <td>120</td>\n",
              "      <td>0</td>\n",
              "      <td>0</td>\n",
              "      <td>0</td>\n",
              "      <td>73</td>\n",
              "      <td>0.5</td>\n",
              "      <td>43</td>\n",
              "      <td>...</td>\n",
              "      <td>62</td>\n",
              "      <td>126</td>\n",
              "      <td>2</td>\n",
              "      <td>0</td>\n",
              "      <td>120</td>\n",
              "      <td>137</td>\n",
              "      <td>121</td>\n",
              "      <td>73</td>\n",
              "      <td>1</td>\n",
              "      <td>1</td>\n",
              "    </tr>\n",
              "    <tr>\n",
              "      <th>1</th>\n",
              "      <td>2</td>\n",
              "      <td>5</td>\n",
              "      <td>632</td>\n",
              "      <td>132</td>\n",
              "      <td>4</td>\n",
              "      <td>0</td>\n",
              "      <td>4</td>\n",
              "      <td>17</td>\n",
              "      <td>2.1</td>\n",
              "      <td>0</td>\n",
              "      <td>...</td>\n",
              "      <td>68</td>\n",
              "      <td>198</td>\n",
              "      <td>6</td>\n",
              "      <td>1</td>\n",
              "      <td>141</td>\n",
              "      <td>136</td>\n",
              "      <td>140</td>\n",
              "      <td>12</td>\n",
              "      <td>0</td>\n",
              "      <td>0</td>\n",
              "    </tr>\n",
              "    <tr>\n",
              "      <th>2</th>\n",
              "      <td>3</td>\n",
              "      <td>177</td>\n",
              "      <td>779</td>\n",
              "      <td>133</td>\n",
              "      <td>2</td>\n",
              "      <td>0</td>\n",
              "      <td>5</td>\n",
              "      <td>16</td>\n",
              "      <td>2.1</td>\n",
              "      <td>0</td>\n",
              "      <td>...</td>\n",
              "      <td>68</td>\n",
              "      <td>198</td>\n",
              "      <td>5</td>\n",
              "      <td>1</td>\n",
              "      <td>141</td>\n",
              "      <td>135</td>\n",
              "      <td>138</td>\n",
              "      <td>13</td>\n",
              "      <td>0</td>\n",
              "      <td>0</td>\n",
              "    </tr>\n",
              "    <tr>\n",
              "      <th>3</th>\n",
              "      <td>4</td>\n",
              "      <td>411</td>\n",
              "      <td>1192</td>\n",
              "      <td>134</td>\n",
              "      <td>2</td>\n",
              "      <td>0</td>\n",
              "      <td>6</td>\n",
              "      <td>16</td>\n",
              "      <td>2.4</td>\n",
              "      <td>0</td>\n",
              "      <td>...</td>\n",
              "      <td>53</td>\n",
              "      <td>170</td>\n",
              "      <td>11</td>\n",
              "      <td>0</td>\n",
              "      <td>137</td>\n",
              "      <td>134</td>\n",
              "      <td>137</td>\n",
              "      <td>13</td>\n",
              "      <td>1</td>\n",
              "      <td>0</td>\n",
              "    </tr>\n",
              "    <tr>\n",
              "      <th>4</th>\n",
              "      <td>5</td>\n",
              "      <td>533</td>\n",
              "      <td>1147</td>\n",
              "      <td>132</td>\n",
              "      <td>4</td>\n",
              "      <td>0</td>\n",
              "      <td>5</td>\n",
              "      <td>16</td>\n",
              "      <td>2.4</td>\n",
              "      <td>0</td>\n",
              "      <td>...</td>\n",
              "      <td>53</td>\n",
              "      <td>170</td>\n",
              "      <td>9</td>\n",
              "      <td>0</td>\n",
              "      <td>137</td>\n",
              "      <td>136</td>\n",
              "      <td>138</td>\n",
              "      <td>11</td>\n",
              "      <td>1</td>\n",
              "      <td>0</td>\n",
              "    </tr>\n",
              "  </tbody>\n",
              "</table>\n",
              "<p>5 rows × 26 columns</p>\n",
              "</div>\n",
              "      <button class=\"colab-df-convert\" onclick=\"convertToInteractive('df-149f742d-b6a8-43a1-8bb1-a2bcf742dece')\"\n",
              "              title=\"Convert this dataframe to an interactive table.\"\n",
              "              style=\"display:none;\">\n",
              "        \n",
              "  <svg xmlns=\"http://www.w3.org/2000/svg\" height=\"24px\"viewBox=\"0 0 24 24\"\n",
              "       width=\"24px\">\n",
              "    <path d=\"M0 0h24v24H0V0z\" fill=\"none\"/>\n",
              "    <path d=\"M18.56 5.44l.94 2.06.94-2.06 2.06-.94-2.06-.94-.94-2.06-.94 2.06-2.06.94zm-11 1L8.5 8.5l.94-2.06 2.06-.94-2.06-.94L8.5 2.5l-.94 2.06-2.06.94zm10 10l.94 2.06.94-2.06 2.06-.94-2.06-.94-.94-2.06-.94 2.06-2.06.94z\"/><path d=\"M17.41 7.96l-1.37-1.37c-.4-.4-.92-.59-1.43-.59-.52 0-1.04.2-1.43.59L10.3 9.45l-7.72 7.72c-.78.78-.78 2.05 0 2.83L4 21.41c.39.39.9.59 1.41.59.51 0 1.02-.2 1.41-.59l7.78-7.78 2.81-2.81c.8-.78.8-2.07 0-2.86zM5.41 20L4 18.59l7.72-7.72 1.47 1.35L5.41 20z\"/>\n",
              "  </svg>\n",
              "      </button>\n",
              "      \n",
              "  <style>\n",
              "    .colab-df-container {\n",
              "      display:flex;\n",
              "      flex-wrap:wrap;\n",
              "      gap: 12px;\n",
              "    }\n",
              "\n",
              "    .colab-df-convert {\n",
              "      background-color: #E8F0FE;\n",
              "      border: none;\n",
              "      border-radius: 50%;\n",
              "      cursor: pointer;\n",
              "      display: none;\n",
              "      fill: #1967D2;\n",
              "      height: 32px;\n",
              "      padding: 0 0 0 0;\n",
              "      width: 32px;\n",
              "    }\n",
              "\n",
              "    .colab-df-convert:hover {\n",
              "      background-color: #E2EBFA;\n",
              "      box-shadow: 0px 1px 2px rgba(60, 64, 67, 0.3), 0px 1px 3px 1px rgba(60, 64, 67, 0.15);\n",
              "      fill: #174EA6;\n",
              "    }\n",
              "\n",
              "    [theme=dark] .colab-df-convert {\n",
              "      background-color: #3B4455;\n",
              "      fill: #D2E3FC;\n",
              "    }\n",
              "\n",
              "    [theme=dark] .colab-df-convert:hover {\n",
              "      background-color: #434B5C;\n",
              "      box-shadow: 0px 1px 3px 1px rgba(0, 0, 0, 0.15);\n",
              "      filter: drop-shadow(0px 1px 2px rgba(0, 0, 0, 0.3));\n",
              "      fill: #FFFFFF;\n",
              "    }\n",
              "  </style>\n",
              "\n",
              "      <script>\n",
              "        const buttonEl =\n",
              "          document.querySelector('#df-149f742d-b6a8-43a1-8bb1-a2bcf742dece button.colab-df-convert');\n",
              "        buttonEl.style.display =\n",
              "          google.colab.kernel.accessAllowed ? 'block' : 'none';\n",
              "\n",
              "        async function convertToInteractive(key) {\n",
              "          const element = document.querySelector('#df-149f742d-b6a8-43a1-8bb1-a2bcf742dece');\n",
              "          const dataTable =\n",
              "            await google.colab.kernel.invokeFunction('convertToInteractive',\n",
              "                                                     [key], {});\n",
              "          if (!dataTable) return;\n",
              "\n",
              "          const docLinkHtml = 'Like what you see? Visit the ' +\n",
              "            '<a target=\"_blank\" href=https://colab.research.google.com/notebooks/data_table.ipynb>data table notebook</a>'\n",
              "            + ' to learn more about interactive tables.';\n",
              "          element.innerHTML = '';\n",
              "          dataTable['output_type'] = 'display_data';\n",
              "          await google.colab.output.renderOutput(dataTable, element);\n",
              "          const docLink = document.createElement('div');\n",
              "          docLink.innerHTML = docLinkHtml;\n",
              "          element.appendChild(docLink);\n",
              "        }\n",
              "      </script>\n",
              "    </div>\n",
              "  </div>\n",
              "  "
            ]
          },
          "metadata": {},
          "execution_count": 2
        }
      ]
    },
    {
      "cell_type": "markdown",
      "source": [
        "##Clasificación de variables según su tipo"
      ],
      "metadata": {
        "id": "VRzTNo6kMCpD"
      }
    },
    {
      "cell_type": "markdown",
      "source": [
        "Un buen análisis descriptivo pasa por entender bien el conjunto de datos, y esto, a su vez, pasa por conocer bien las variables que trataremos. Conocer de qué tipo son (cualitativas o cuantitativas, discretas o continuas) es fundamental para entender la esencia misma de los datos que estamos tratando y poder así desarrollar correctamente futuros análisis y modelizaciones.\n"
      ],
      "metadata": {
        "id": "InFCMlnYN24V"
      }
    },
    {
      "cell_type": "markdown",
      "source": [
        "Podemos empezar por conocer con qué tipo de variables estamos trabajando si contamos con información adicional. En nuestro caso, contamos con un PDF en el que podemos ver a qué hace referencia cada una de las variables: \n",
        "\n",
        "\n",
        "1. ID: ID Observación\n",
        "2. b: Tiempo de inicio de la monitorización\n",
        "3. e: Tiempo de finalización de la monitorización\n",
        "4. LBE: Frecuencia cardiaca fetal de base (latidos por minuto)\n",
        "5. AC: Número de aceleraciones por minuto\n",
        "6. FM: Número de movimientos fetales por segundo.\n",
        "7. UC: Número de contracciones uterinas por segundo.\n",
        "8. ASTV: Porcentaje de tiempo con variabilidad anormal a corto plazo.\n",
        "9. MSTV: Valor medio de variabilidad a corto plazo.\n",
        "10. ALTV: Porcentaje de tiempo con variabilidad anormal a largo plazo. \n",
        "11. DL: Número de desaceleraciones ligeras por segundo\n",
        "12. DS: Número de desaceleraciones severas por segundo\n",
        "13. DP: Número de desaceleraciones prolongadas por segundo\n",
        "14. DR: Número de desaceleraciones repetitivas por segundo.\n",
        "15. Width: Ancho de histograma FHR\n",
        "16. Min: Mínimo (frecuencia baja) de histograma FHR\n",
        "17. Max: Máximo (frecuencia alta) de histograma FHR\n",
        "18. Nmax: Número de picos en el histograma\n",
        "19. Nzeros: Número de ceros en el histograma\n",
        "20. Mode: Modo de histograma\n",
        "21. Mean: Media de histograma\n",
        "22. Variance: Varianza de histograma\n",
        "23. Tendency: Tendencia de histograma\n",
        "24. Target (variable dependiente): Código de clase de estado fetal\n",
        "\n"
      ],
      "metadata": {
        "id": "Hmp2nCWmPqnu"
      }
    },
    {
      "cell_type": "markdown",
      "source": [
        "Contams con un PDF informativo, pero no nos aparece de qué tipo son las variables. Pero solamente con las descripciones de la variables ya podemos intuir de qué tipo son muchas de ellas. Por ejemplo, parece ser que la mayoría de ellas son cuantitativas. Igualmente, podemos utilizar la función `info` y `agg (nunique)` para tener una información más completa:"
      ],
      "metadata": {
        "id": "xYuLAo3XTLBS"
      }
    },
    {
      "cell_type": "code",
      "source": [
        "data.info()"
      ],
      "metadata": {
        "colab": {
          "base_uri": "https://localhost:8080/"
        },
        "id": "dOS0GwxdMDHI",
        "outputId": "7a6591a4-511a-45ac-9e74-820c6f1689f6"
      },
      "execution_count": null,
      "outputs": [
        {
          "output_type": "stream",
          "name": "stdout",
          "text": [
            "<class 'pandas.core.frame.DataFrame'>\n",
            "RangeIndex: 2126 entries, 0 to 2125\n",
            "Data columns (total 26 columns):\n",
            " #   Column    Non-Null Count  Dtype  \n",
            "---  ------    --------------  -----  \n",
            " 0   ID        2126 non-null   int64  \n",
            " 1   b         2126 non-null   int64  \n",
            " 2   e         2126 non-null   int64  \n",
            " 3   LBE       2126 non-null   int64  \n",
            " 4   AC        2126 non-null   int64  \n",
            " 5   FM        2126 non-null   int64  \n",
            " 6   UC        2126 non-null   int64  \n",
            " 7   ASTV      2126 non-null   int64  \n",
            " 8   MSTV      2126 non-null   float64\n",
            " 9   ALTV      2126 non-null   int64  \n",
            " 10  MLTV      2126 non-null   float64\n",
            " 11  DL        2126 non-null   int64  \n",
            " 12  DS        2126 non-null   int64  \n",
            " 13  DP        2126 non-null   int64  \n",
            " 14  DR        2126 non-null   int64  \n",
            " 15  Width     2126 non-null   int64  \n",
            " 16  Min       2126 non-null   int64  \n",
            " 17  Max       2126 non-null   int64  \n",
            " 18  Nmax      2126 non-null   int64  \n",
            " 19  Nzeros    2126 non-null   int64  \n",
            " 20  Mode      2126 non-null   int64  \n",
            " 21  Mean      2126 non-null   int64  \n",
            " 22  Median    2126 non-null   int64  \n",
            " 23  Variance  2126 non-null   int64  \n",
            " 24  Tendency  2126 non-null   int64  \n",
            " 25  Target    2126 non-null   int64  \n",
            "dtypes: float64(2), int64(24)\n",
            "memory usage: 432.0 KB\n"
          ]
        }
      ]
    },
    {
      "cell_type": "markdown",
      "source": [
        "Con la función `info` vemos que todas las variables son `int64` o `float64`. Esto quiere decir que no hay variables cualitativas, es decir, variables con contenido cualitativo. Pero tenemos que tener en cuenta que lo que vemos en el dataset puede ser la codificación/cuantificación de las variables cualitativas. Es decir, Python detecta el valor de la variable y concluye que es un número, pero ese número puede ser la codificación que hace referencia a una etiqueta cualitativa. Esto es lo que parece ocurrir con la variable `Target`. \n",
        "\n",
        "Vamos a utilizar la función `agg (nunique)`, que nos dice cuántos valores diferentes hay por cada variable:"
      ],
      "metadata": {
        "id": "9ryX3dYhUBTN"
      }
    },
    {
      "cell_type": "code",
      "source": [
        "data.agg(['nunique']).transpose()"
      ],
      "metadata": {
        "colab": {
          "base_uri": "https://localhost:8080/",
          "height": 864
        },
        "id": "O3Wm-KipUtul",
        "outputId": "15188277-9fca-4557-8573-fa288a196c58"
      },
      "execution_count": null,
      "outputs": [
        {
          "output_type": "execute_result",
          "data": {
            "text/plain": [
              "          nunique\n",
              "ID           2126\n",
              "b             979\n",
              "e            1064\n",
              "LBE            48\n",
              "AC             22\n",
              "FM             96\n",
              "UC             19\n",
              "ASTV           75\n",
              "MSTV           57\n",
              "ALTV           87\n",
              "MLTV          249\n",
              "DL             15\n",
              "DS              2\n",
              "DP              5\n",
              "DR              1\n",
              "Width         154\n",
              "Min           109\n",
              "Max            86\n",
              "Nmax           18\n",
              "Nzeros          9\n",
              "Mode           88\n",
              "Mean          103\n",
              "Median         95\n",
              "Variance      133\n",
              "Tendency        3\n",
              "Target          2"
            ],
            "text/html": [
              "\n",
              "  <div id=\"df-5da49e80-4657-458d-abbe-4497b338f784\">\n",
              "    <div class=\"colab-df-container\">\n",
              "      <div>\n",
              "<style scoped>\n",
              "    .dataframe tbody tr th:only-of-type {\n",
              "        vertical-align: middle;\n",
              "    }\n",
              "\n",
              "    .dataframe tbody tr th {\n",
              "        vertical-align: top;\n",
              "    }\n",
              "\n",
              "    .dataframe thead th {\n",
              "        text-align: right;\n",
              "    }\n",
              "</style>\n",
              "<table border=\"1\" class=\"dataframe\">\n",
              "  <thead>\n",
              "    <tr style=\"text-align: right;\">\n",
              "      <th></th>\n",
              "      <th>nunique</th>\n",
              "    </tr>\n",
              "  </thead>\n",
              "  <tbody>\n",
              "    <tr>\n",
              "      <th>ID</th>\n",
              "      <td>2126</td>\n",
              "    </tr>\n",
              "    <tr>\n",
              "      <th>b</th>\n",
              "      <td>979</td>\n",
              "    </tr>\n",
              "    <tr>\n",
              "      <th>e</th>\n",
              "      <td>1064</td>\n",
              "    </tr>\n",
              "    <tr>\n",
              "      <th>LBE</th>\n",
              "      <td>48</td>\n",
              "    </tr>\n",
              "    <tr>\n",
              "      <th>AC</th>\n",
              "      <td>22</td>\n",
              "    </tr>\n",
              "    <tr>\n",
              "      <th>FM</th>\n",
              "      <td>96</td>\n",
              "    </tr>\n",
              "    <tr>\n",
              "      <th>UC</th>\n",
              "      <td>19</td>\n",
              "    </tr>\n",
              "    <tr>\n",
              "      <th>ASTV</th>\n",
              "      <td>75</td>\n",
              "    </tr>\n",
              "    <tr>\n",
              "      <th>MSTV</th>\n",
              "      <td>57</td>\n",
              "    </tr>\n",
              "    <tr>\n",
              "      <th>ALTV</th>\n",
              "      <td>87</td>\n",
              "    </tr>\n",
              "    <tr>\n",
              "      <th>MLTV</th>\n",
              "      <td>249</td>\n",
              "    </tr>\n",
              "    <tr>\n",
              "      <th>DL</th>\n",
              "      <td>15</td>\n",
              "    </tr>\n",
              "    <tr>\n",
              "      <th>DS</th>\n",
              "      <td>2</td>\n",
              "    </tr>\n",
              "    <tr>\n",
              "      <th>DP</th>\n",
              "      <td>5</td>\n",
              "    </tr>\n",
              "    <tr>\n",
              "      <th>DR</th>\n",
              "      <td>1</td>\n",
              "    </tr>\n",
              "    <tr>\n",
              "      <th>Width</th>\n",
              "      <td>154</td>\n",
              "    </tr>\n",
              "    <tr>\n",
              "      <th>Min</th>\n",
              "      <td>109</td>\n",
              "    </tr>\n",
              "    <tr>\n",
              "      <th>Max</th>\n",
              "      <td>86</td>\n",
              "    </tr>\n",
              "    <tr>\n",
              "      <th>Nmax</th>\n",
              "      <td>18</td>\n",
              "    </tr>\n",
              "    <tr>\n",
              "      <th>Nzeros</th>\n",
              "      <td>9</td>\n",
              "    </tr>\n",
              "    <tr>\n",
              "      <th>Mode</th>\n",
              "      <td>88</td>\n",
              "    </tr>\n",
              "    <tr>\n",
              "      <th>Mean</th>\n",
              "      <td>103</td>\n",
              "    </tr>\n",
              "    <tr>\n",
              "      <th>Median</th>\n",
              "      <td>95</td>\n",
              "    </tr>\n",
              "    <tr>\n",
              "      <th>Variance</th>\n",
              "      <td>133</td>\n",
              "    </tr>\n",
              "    <tr>\n",
              "      <th>Tendency</th>\n",
              "      <td>3</td>\n",
              "    </tr>\n",
              "    <tr>\n",
              "      <th>Target</th>\n",
              "      <td>2</td>\n",
              "    </tr>\n",
              "  </tbody>\n",
              "</table>\n",
              "</div>\n",
              "      <button class=\"colab-df-convert\" onclick=\"convertToInteractive('df-5da49e80-4657-458d-abbe-4497b338f784')\"\n",
              "              title=\"Convert this dataframe to an interactive table.\"\n",
              "              style=\"display:none;\">\n",
              "        \n",
              "  <svg xmlns=\"http://www.w3.org/2000/svg\" height=\"24px\"viewBox=\"0 0 24 24\"\n",
              "       width=\"24px\">\n",
              "    <path d=\"M0 0h24v24H0V0z\" fill=\"none\"/>\n",
              "    <path d=\"M18.56 5.44l.94 2.06.94-2.06 2.06-.94-2.06-.94-.94-2.06-.94 2.06-2.06.94zm-11 1L8.5 8.5l.94-2.06 2.06-.94-2.06-.94L8.5 2.5l-.94 2.06-2.06.94zm10 10l.94 2.06.94-2.06 2.06-.94-2.06-.94-.94-2.06-.94 2.06-2.06.94z\"/><path d=\"M17.41 7.96l-1.37-1.37c-.4-.4-.92-.59-1.43-.59-.52 0-1.04.2-1.43.59L10.3 9.45l-7.72 7.72c-.78.78-.78 2.05 0 2.83L4 21.41c.39.39.9.59 1.41.59.51 0 1.02-.2 1.41-.59l7.78-7.78 2.81-2.81c.8-.78.8-2.07 0-2.86zM5.41 20L4 18.59l7.72-7.72 1.47 1.35L5.41 20z\"/>\n",
              "  </svg>\n",
              "      </button>\n",
              "      \n",
              "  <style>\n",
              "    .colab-df-container {\n",
              "      display:flex;\n",
              "      flex-wrap:wrap;\n",
              "      gap: 12px;\n",
              "    }\n",
              "\n",
              "    .colab-df-convert {\n",
              "      background-color: #E8F0FE;\n",
              "      border: none;\n",
              "      border-radius: 50%;\n",
              "      cursor: pointer;\n",
              "      display: none;\n",
              "      fill: #1967D2;\n",
              "      height: 32px;\n",
              "      padding: 0 0 0 0;\n",
              "      width: 32px;\n",
              "    }\n",
              "\n",
              "    .colab-df-convert:hover {\n",
              "      background-color: #E2EBFA;\n",
              "      box-shadow: 0px 1px 2px rgba(60, 64, 67, 0.3), 0px 1px 3px 1px rgba(60, 64, 67, 0.15);\n",
              "      fill: #174EA6;\n",
              "    }\n",
              "\n",
              "    [theme=dark] .colab-df-convert {\n",
              "      background-color: #3B4455;\n",
              "      fill: #D2E3FC;\n",
              "    }\n",
              "\n",
              "    [theme=dark] .colab-df-convert:hover {\n",
              "      background-color: #434B5C;\n",
              "      box-shadow: 0px 1px 3px 1px rgba(0, 0, 0, 0.15);\n",
              "      filter: drop-shadow(0px 1px 2px rgba(0, 0, 0, 0.3));\n",
              "      fill: #FFFFFF;\n",
              "    }\n",
              "  </style>\n",
              "\n",
              "      <script>\n",
              "        const buttonEl =\n",
              "          document.querySelector('#df-5da49e80-4657-458d-abbe-4497b338f784 button.colab-df-convert');\n",
              "        buttonEl.style.display =\n",
              "          google.colab.kernel.accessAllowed ? 'block' : 'none';\n",
              "\n",
              "        async function convertToInteractive(key) {\n",
              "          const element = document.querySelector('#df-5da49e80-4657-458d-abbe-4497b338f784');\n",
              "          const dataTable =\n",
              "            await google.colab.kernel.invokeFunction('convertToInteractive',\n",
              "                                                     [key], {});\n",
              "          if (!dataTable) return;\n",
              "\n",
              "          const docLinkHtml = 'Like what you see? Visit the ' +\n",
              "            '<a target=\"_blank\" href=https://colab.research.google.com/notebooks/data_table.ipynb>data table notebook</a>'\n",
              "            + ' to learn more about interactive tables.';\n",
              "          element.innerHTML = '';\n",
              "          dataTable['output_type'] = 'display_data';\n",
              "          await google.colab.output.renderOutput(dataTable, element);\n",
              "          const docLink = document.createElement('div');\n",
              "          docLink.innerHTML = docLinkHtml;\n",
              "          element.appendChild(docLink);\n",
              "        }\n",
              "      </script>\n",
              "    </div>\n",
              "  </div>\n",
              "  "
            ]
          },
          "metadata": {},
          "execution_count": 4
        }
      ]
    },
    {
      "cell_type": "markdown",
      "source": [
        "Como podemos observar, la cantidad de valores de ciertas variables parece indicarnos que son cualitativas, como es el caso de `Target`, que contiene solamente 2 valores, correspondiendo a los 2 códigos que hacen referencia al estado fetal. \n",
        "\n",
        "También podríamos sospechar que pudiese haber variables cualitativas politómicas como en el caso de `DS`, `DP` o `Tendency` por los pocos valores que toman, aunque viendo la descripción de las variables vemos que, definitivamente, parecen ser cuantitativas. Hay que tener en cuenta que pueden ser cuantitativas y discretas, y que eso también puede ser motivo para encontrarnos con pocos de valores. \n",
        "\n",
        "También vemos casos de variables que podrían ser eliminadas, como el caso de `DR` que no es una variable, sino una constante, pues toma el mismo valor en cada uno de los casos. Esta variable no aporte ningún tipo de información así que podríamos prescindir de ella. \n",
        "\n",
        "Otra forma de conocer la naturaleza de las variables es a través de la función `describe`:\n",
        "\n"
      ],
      "metadata": {
        "id": "YiyNUoSPO-ec"
      }
    },
    {
      "cell_type": "code",
      "source": [
        "data.describe().transpose()"
      ],
      "metadata": {
        "colab": {
          "base_uri": "https://localhost:8080/",
          "height": 864
        },
        "id": "zDTwvvGB3E4r",
        "outputId": "84b1aa99-2555-4db7-8fd3-57e6da050500"
      },
      "execution_count": null,
      "outputs": [
        {
          "output_type": "execute_result",
          "data": {
            "text/plain": [
              "           count         mean         std    min      25%     50%      75%  \\\n",
              "ID        2126.0  1063.500000  613.867657    1.0   532.25  1063.5  1594.75   \n",
              "b         2126.0   878.439793  894.084748    0.0    55.00   538.0  1521.00   \n",
              "e         2126.0  1702.877234  930.919143  287.0  1009.00  1241.0  2434.75   \n",
              "LBE       2126.0   133.303857    9.840844  106.0   126.00   133.0   140.00   \n",
              "AC        2126.0     2.722484    3.560850    0.0     0.00     1.0     4.00   \n",
              "FM        2126.0     7.241298   37.125309    0.0     0.00     0.0     2.00   \n",
              "UC        2126.0     3.659925    2.847094    0.0     1.00     3.0     5.00   \n",
              "ASTV      2126.0    46.990122   17.192814   12.0    32.00    49.0    61.00   \n",
              "MSTV      2126.0     1.332785    0.883241    0.2     0.70     1.2     1.70   \n",
              "ALTV      2126.0     9.846660   18.396880    0.0     0.00     0.0    11.00   \n",
              "MLTV      2126.0     8.187629    5.628247    0.0     4.60     7.4    10.80   \n",
              "DL        2126.0     1.570085    2.499229    0.0     0.00     0.0     3.00   \n",
              "DS        2126.0     0.003293    0.057300    0.0     0.00     0.0     0.00   \n",
              "DP        2126.0     0.126058    0.464361    0.0     0.00     0.0     0.00   \n",
              "DR        2126.0     0.000000    0.000000    0.0     0.00     0.0     0.00   \n",
              "Width     2126.0    70.445908   38.955693    3.0    37.00    67.5   100.00   \n",
              "Min       2126.0    93.579492   29.560212   50.0    67.00    93.0   120.00   \n",
              "Max       2126.0   164.025400   17.944183  122.0   152.00   162.0   174.00   \n",
              "Nmax      2126.0     4.068203    2.949386    0.0     2.00     3.0     6.00   \n",
              "Nzeros    2126.0     0.323612    0.706059    0.0     0.00     0.0     0.00   \n",
              "Mode      2126.0   137.452023   16.381289   60.0   129.00   139.0   148.00   \n",
              "Mean      2126.0   134.610536   15.593596   73.0   125.00   136.0   145.00   \n",
              "Median    2126.0   138.090310   14.466589   77.0   129.00   139.0   148.00   \n",
              "Variance  2126.0    18.808090   28.977636    0.0     2.00     7.0    24.00   \n",
              "Tendency  2126.0     0.320320    0.610829   -1.0     0.00     0.0     1.00   \n",
              "Target    2126.0     0.221543    0.415383    0.0     0.00     0.0     0.00   \n",
              "\n",
              "             max  \n",
              "ID        2126.0  \n",
              "b         3296.0  \n",
              "e         3599.0  \n",
              "LBE        160.0  \n",
              "AC          26.0  \n",
              "FM         564.0  \n",
              "UC          23.0  \n",
              "ASTV        87.0  \n",
              "MSTV         7.0  \n",
              "ALTV        91.0  \n",
              "MLTV        50.7  \n",
              "DL          16.0  \n",
              "DS           1.0  \n",
              "DP           4.0  \n",
              "DR           0.0  \n",
              "Width      180.0  \n",
              "Min        159.0  \n",
              "Max        238.0  \n",
              "Nmax        18.0  \n",
              "Nzeros      10.0  \n",
              "Mode       187.0  \n",
              "Mean       182.0  \n",
              "Median     186.0  \n",
              "Variance   269.0  \n",
              "Tendency     1.0  \n",
              "Target       1.0  "
            ],
            "text/html": [
              "\n",
              "  <div id=\"df-76b9444a-4eb8-4ca8-9ab9-f7c77c2023d0\">\n",
              "    <div class=\"colab-df-container\">\n",
              "      <div>\n",
              "<style scoped>\n",
              "    .dataframe tbody tr th:only-of-type {\n",
              "        vertical-align: middle;\n",
              "    }\n",
              "\n",
              "    .dataframe tbody tr th {\n",
              "        vertical-align: top;\n",
              "    }\n",
              "\n",
              "    .dataframe thead th {\n",
              "        text-align: right;\n",
              "    }\n",
              "</style>\n",
              "<table border=\"1\" class=\"dataframe\">\n",
              "  <thead>\n",
              "    <tr style=\"text-align: right;\">\n",
              "      <th></th>\n",
              "      <th>count</th>\n",
              "      <th>mean</th>\n",
              "      <th>std</th>\n",
              "      <th>min</th>\n",
              "      <th>25%</th>\n",
              "      <th>50%</th>\n",
              "      <th>75%</th>\n",
              "      <th>max</th>\n",
              "    </tr>\n",
              "  </thead>\n",
              "  <tbody>\n",
              "    <tr>\n",
              "      <th>ID</th>\n",
              "      <td>2126.0</td>\n",
              "      <td>1063.500000</td>\n",
              "      <td>613.867657</td>\n",
              "      <td>1.0</td>\n",
              "      <td>532.25</td>\n",
              "      <td>1063.5</td>\n",
              "      <td>1594.75</td>\n",
              "      <td>2126.0</td>\n",
              "    </tr>\n",
              "    <tr>\n",
              "      <th>b</th>\n",
              "      <td>2126.0</td>\n",
              "      <td>878.439793</td>\n",
              "      <td>894.084748</td>\n",
              "      <td>0.0</td>\n",
              "      <td>55.00</td>\n",
              "      <td>538.0</td>\n",
              "      <td>1521.00</td>\n",
              "      <td>3296.0</td>\n",
              "    </tr>\n",
              "    <tr>\n",
              "      <th>e</th>\n",
              "      <td>2126.0</td>\n",
              "      <td>1702.877234</td>\n",
              "      <td>930.919143</td>\n",
              "      <td>287.0</td>\n",
              "      <td>1009.00</td>\n",
              "      <td>1241.0</td>\n",
              "      <td>2434.75</td>\n",
              "      <td>3599.0</td>\n",
              "    </tr>\n",
              "    <tr>\n",
              "      <th>LBE</th>\n",
              "      <td>2126.0</td>\n",
              "      <td>133.303857</td>\n",
              "      <td>9.840844</td>\n",
              "      <td>106.0</td>\n",
              "      <td>126.00</td>\n",
              "      <td>133.0</td>\n",
              "      <td>140.00</td>\n",
              "      <td>160.0</td>\n",
              "    </tr>\n",
              "    <tr>\n",
              "      <th>AC</th>\n",
              "      <td>2126.0</td>\n",
              "      <td>2.722484</td>\n",
              "      <td>3.560850</td>\n",
              "      <td>0.0</td>\n",
              "      <td>0.00</td>\n",
              "      <td>1.0</td>\n",
              "      <td>4.00</td>\n",
              "      <td>26.0</td>\n",
              "    </tr>\n",
              "    <tr>\n",
              "      <th>FM</th>\n",
              "      <td>2126.0</td>\n",
              "      <td>7.241298</td>\n",
              "      <td>37.125309</td>\n",
              "      <td>0.0</td>\n",
              "      <td>0.00</td>\n",
              "      <td>0.0</td>\n",
              "      <td>2.00</td>\n",
              "      <td>564.0</td>\n",
              "    </tr>\n",
              "    <tr>\n",
              "      <th>UC</th>\n",
              "      <td>2126.0</td>\n",
              "      <td>3.659925</td>\n",
              "      <td>2.847094</td>\n",
              "      <td>0.0</td>\n",
              "      <td>1.00</td>\n",
              "      <td>3.0</td>\n",
              "      <td>5.00</td>\n",
              "      <td>23.0</td>\n",
              "    </tr>\n",
              "    <tr>\n",
              "      <th>ASTV</th>\n",
              "      <td>2126.0</td>\n",
              "      <td>46.990122</td>\n",
              "      <td>17.192814</td>\n",
              "      <td>12.0</td>\n",
              "      <td>32.00</td>\n",
              "      <td>49.0</td>\n",
              "      <td>61.00</td>\n",
              "      <td>87.0</td>\n",
              "    </tr>\n",
              "    <tr>\n",
              "      <th>MSTV</th>\n",
              "      <td>2126.0</td>\n",
              "      <td>1.332785</td>\n",
              "      <td>0.883241</td>\n",
              "      <td>0.2</td>\n",
              "      <td>0.70</td>\n",
              "      <td>1.2</td>\n",
              "      <td>1.70</td>\n",
              "      <td>7.0</td>\n",
              "    </tr>\n",
              "    <tr>\n",
              "      <th>ALTV</th>\n",
              "      <td>2126.0</td>\n",
              "      <td>9.846660</td>\n",
              "      <td>18.396880</td>\n",
              "      <td>0.0</td>\n",
              "      <td>0.00</td>\n",
              "      <td>0.0</td>\n",
              "      <td>11.00</td>\n",
              "      <td>91.0</td>\n",
              "    </tr>\n",
              "    <tr>\n",
              "      <th>MLTV</th>\n",
              "      <td>2126.0</td>\n",
              "      <td>8.187629</td>\n",
              "      <td>5.628247</td>\n",
              "      <td>0.0</td>\n",
              "      <td>4.60</td>\n",
              "      <td>7.4</td>\n",
              "      <td>10.80</td>\n",
              "      <td>50.7</td>\n",
              "    </tr>\n",
              "    <tr>\n",
              "      <th>DL</th>\n",
              "      <td>2126.0</td>\n",
              "      <td>1.570085</td>\n",
              "      <td>2.499229</td>\n",
              "      <td>0.0</td>\n",
              "      <td>0.00</td>\n",
              "      <td>0.0</td>\n",
              "      <td>3.00</td>\n",
              "      <td>16.0</td>\n",
              "    </tr>\n",
              "    <tr>\n",
              "      <th>DS</th>\n",
              "      <td>2126.0</td>\n",
              "      <td>0.003293</td>\n",
              "      <td>0.057300</td>\n",
              "      <td>0.0</td>\n",
              "      <td>0.00</td>\n",
              "      <td>0.0</td>\n",
              "      <td>0.00</td>\n",
              "      <td>1.0</td>\n",
              "    </tr>\n",
              "    <tr>\n",
              "      <th>DP</th>\n",
              "      <td>2126.0</td>\n",
              "      <td>0.126058</td>\n",
              "      <td>0.464361</td>\n",
              "      <td>0.0</td>\n",
              "      <td>0.00</td>\n",
              "      <td>0.0</td>\n",
              "      <td>0.00</td>\n",
              "      <td>4.0</td>\n",
              "    </tr>\n",
              "    <tr>\n",
              "      <th>DR</th>\n",
              "      <td>2126.0</td>\n",
              "      <td>0.000000</td>\n",
              "      <td>0.000000</td>\n",
              "      <td>0.0</td>\n",
              "      <td>0.00</td>\n",
              "      <td>0.0</td>\n",
              "      <td>0.00</td>\n",
              "      <td>0.0</td>\n",
              "    </tr>\n",
              "    <tr>\n",
              "      <th>Width</th>\n",
              "      <td>2126.0</td>\n",
              "      <td>70.445908</td>\n",
              "      <td>38.955693</td>\n",
              "      <td>3.0</td>\n",
              "      <td>37.00</td>\n",
              "      <td>67.5</td>\n",
              "      <td>100.00</td>\n",
              "      <td>180.0</td>\n",
              "    </tr>\n",
              "    <tr>\n",
              "      <th>Min</th>\n",
              "      <td>2126.0</td>\n",
              "      <td>93.579492</td>\n",
              "      <td>29.560212</td>\n",
              "      <td>50.0</td>\n",
              "      <td>67.00</td>\n",
              "      <td>93.0</td>\n",
              "      <td>120.00</td>\n",
              "      <td>159.0</td>\n",
              "    </tr>\n",
              "    <tr>\n",
              "      <th>Max</th>\n",
              "      <td>2126.0</td>\n",
              "      <td>164.025400</td>\n",
              "      <td>17.944183</td>\n",
              "      <td>122.0</td>\n",
              "      <td>152.00</td>\n",
              "      <td>162.0</td>\n",
              "      <td>174.00</td>\n",
              "      <td>238.0</td>\n",
              "    </tr>\n",
              "    <tr>\n",
              "      <th>Nmax</th>\n",
              "      <td>2126.0</td>\n",
              "      <td>4.068203</td>\n",
              "      <td>2.949386</td>\n",
              "      <td>0.0</td>\n",
              "      <td>2.00</td>\n",
              "      <td>3.0</td>\n",
              "      <td>6.00</td>\n",
              "      <td>18.0</td>\n",
              "    </tr>\n",
              "    <tr>\n",
              "      <th>Nzeros</th>\n",
              "      <td>2126.0</td>\n",
              "      <td>0.323612</td>\n",
              "      <td>0.706059</td>\n",
              "      <td>0.0</td>\n",
              "      <td>0.00</td>\n",
              "      <td>0.0</td>\n",
              "      <td>0.00</td>\n",
              "      <td>10.0</td>\n",
              "    </tr>\n",
              "    <tr>\n",
              "      <th>Mode</th>\n",
              "      <td>2126.0</td>\n",
              "      <td>137.452023</td>\n",
              "      <td>16.381289</td>\n",
              "      <td>60.0</td>\n",
              "      <td>129.00</td>\n",
              "      <td>139.0</td>\n",
              "      <td>148.00</td>\n",
              "      <td>187.0</td>\n",
              "    </tr>\n",
              "    <tr>\n",
              "      <th>Mean</th>\n",
              "      <td>2126.0</td>\n",
              "      <td>134.610536</td>\n",
              "      <td>15.593596</td>\n",
              "      <td>73.0</td>\n",
              "      <td>125.00</td>\n",
              "      <td>136.0</td>\n",
              "      <td>145.00</td>\n",
              "      <td>182.0</td>\n",
              "    </tr>\n",
              "    <tr>\n",
              "      <th>Median</th>\n",
              "      <td>2126.0</td>\n",
              "      <td>138.090310</td>\n",
              "      <td>14.466589</td>\n",
              "      <td>77.0</td>\n",
              "      <td>129.00</td>\n",
              "      <td>139.0</td>\n",
              "      <td>148.00</td>\n",
              "      <td>186.0</td>\n",
              "    </tr>\n",
              "    <tr>\n",
              "      <th>Variance</th>\n",
              "      <td>2126.0</td>\n",
              "      <td>18.808090</td>\n",
              "      <td>28.977636</td>\n",
              "      <td>0.0</td>\n",
              "      <td>2.00</td>\n",
              "      <td>7.0</td>\n",
              "      <td>24.00</td>\n",
              "      <td>269.0</td>\n",
              "    </tr>\n",
              "    <tr>\n",
              "      <th>Tendency</th>\n",
              "      <td>2126.0</td>\n",
              "      <td>0.320320</td>\n",
              "      <td>0.610829</td>\n",
              "      <td>-1.0</td>\n",
              "      <td>0.00</td>\n",
              "      <td>0.0</td>\n",
              "      <td>1.00</td>\n",
              "      <td>1.0</td>\n",
              "    </tr>\n",
              "    <tr>\n",
              "      <th>Target</th>\n",
              "      <td>2126.0</td>\n",
              "      <td>0.221543</td>\n",
              "      <td>0.415383</td>\n",
              "      <td>0.0</td>\n",
              "      <td>0.00</td>\n",
              "      <td>0.0</td>\n",
              "      <td>0.00</td>\n",
              "      <td>1.0</td>\n",
              "    </tr>\n",
              "  </tbody>\n",
              "</table>\n",
              "</div>\n",
              "      <button class=\"colab-df-convert\" onclick=\"convertToInteractive('df-76b9444a-4eb8-4ca8-9ab9-f7c77c2023d0')\"\n",
              "              title=\"Convert this dataframe to an interactive table.\"\n",
              "              style=\"display:none;\">\n",
              "        \n",
              "  <svg xmlns=\"http://www.w3.org/2000/svg\" height=\"24px\"viewBox=\"0 0 24 24\"\n",
              "       width=\"24px\">\n",
              "    <path d=\"M0 0h24v24H0V0z\" fill=\"none\"/>\n",
              "    <path d=\"M18.56 5.44l.94 2.06.94-2.06 2.06-.94-2.06-.94-.94-2.06-.94 2.06-2.06.94zm-11 1L8.5 8.5l.94-2.06 2.06-.94-2.06-.94L8.5 2.5l-.94 2.06-2.06.94zm10 10l.94 2.06.94-2.06 2.06-.94-2.06-.94-.94-2.06-.94 2.06-2.06.94z\"/><path d=\"M17.41 7.96l-1.37-1.37c-.4-.4-.92-.59-1.43-.59-.52 0-1.04.2-1.43.59L10.3 9.45l-7.72 7.72c-.78.78-.78 2.05 0 2.83L4 21.41c.39.39.9.59 1.41.59.51 0 1.02-.2 1.41-.59l7.78-7.78 2.81-2.81c.8-.78.8-2.07 0-2.86zM5.41 20L4 18.59l7.72-7.72 1.47 1.35L5.41 20z\"/>\n",
              "  </svg>\n",
              "      </button>\n",
              "      \n",
              "  <style>\n",
              "    .colab-df-container {\n",
              "      display:flex;\n",
              "      flex-wrap:wrap;\n",
              "      gap: 12px;\n",
              "    }\n",
              "\n",
              "    .colab-df-convert {\n",
              "      background-color: #E8F0FE;\n",
              "      border: none;\n",
              "      border-radius: 50%;\n",
              "      cursor: pointer;\n",
              "      display: none;\n",
              "      fill: #1967D2;\n",
              "      height: 32px;\n",
              "      padding: 0 0 0 0;\n",
              "      width: 32px;\n",
              "    }\n",
              "\n",
              "    .colab-df-convert:hover {\n",
              "      background-color: #E2EBFA;\n",
              "      box-shadow: 0px 1px 2px rgba(60, 64, 67, 0.3), 0px 1px 3px 1px rgba(60, 64, 67, 0.15);\n",
              "      fill: #174EA6;\n",
              "    }\n",
              "\n",
              "    [theme=dark] .colab-df-convert {\n",
              "      background-color: #3B4455;\n",
              "      fill: #D2E3FC;\n",
              "    }\n",
              "\n",
              "    [theme=dark] .colab-df-convert:hover {\n",
              "      background-color: #434B5C;\n",
              "      box-shadow: 0px 1px 3px 1px rgba(0, 0, 0, 0.15);\n",
              "      filter: drop-shadow(0px 1px 2px rgba(0, 0, 0, 0.3));\n",
              "      fill: #FFFFFF;\n",
              "    }\n",
              "  </style>\n",
              "\n",
              "      <script>\n",
              "        const buttonEl =\n",
              "          document.querySelector('#df-76b9444a-4eb8-4ca8-9ab9-f7c77c2023d0 button.colab-df-convert');\n",
              "        buttonEl.style.display =\n",
              "          google.colab.kernel.accessAllowed ? 'block' : 'none';\n",
              "\n",
              "        async function convertToInteractive(key) {\n",
              "          const element = document.querySelector('#df-76b9444a-4eb8-4ca8-9ab9-f7c77c2023d0');\n",
              "          const dataTable =\n",
              "            await google.colab.kernel.invokeFunction('convertToInteractive',\n",
              "                                                     [key], {});\n",
              "          if (!dataTable) return;\n",
              "\n",
              "          const docLinkHtml = 'Like what you see? Visit the ' +\n",
              "            '<a target=\"_blank\" href=https://colab.research.google.com/notebooks/data_table.ipynb>data table notebook</a>'\n",
              "            + ' to learn more about interactive tables.';\n",
              "          element.innerHTML = '';\n",
              "          dataTable['output_type'] = 'display_data';\n",
              "          await google.colab.output.renderOutput(dataTable, element);\n",
              "          const docLink = document.createElement('div');\n",
              "          docLink.innerHTML = docLinkHtml;\n",
              "          element.appendChild(docLink);\n",
              "        }\n",
              "      </script>\n",
              "    </div>\n",
              "  </div>\n",
              "  "
            ]
          },
          "metadata": {},
          "execution_count": 5
        }
      ]
    },
    {
      "cell_type": "markdown",
      "source": [
        "Aquí podemos comprobar qué tipo de datos tenemos. En caso de la variable `Target`, por ejemplo, vemos que los únicos valores que admite son 0 y 1, habiendo solo dos valores distintos en el conjunto de datos y viendo que el mínimo y máximo son 0 y 1. \n",
        "En el caso de la variable `DS`vemos que ocurre lo mismo. "
      ],
      "metadata": {
        "id": "8AGVN2F53Lub"
      }
    },
    {
      "cell_type": "markdown",
      "source": [
        "Teniendo en cuenta la descripción de las variables y todos los demás análisis, podríamos clasificar las variables de la siguiente manera: \n",
        "\n",
        "**Cuantitativas discretas:**\n",
        "\n",
        "ID, b, e, LBE, AC, FM, UC, DL, DS, DP, DR, Mode, Tendency.\n",
        "\n",
        "**Cuantitativas continuas:**\n",
        "\n",
        "ASTV, MSTV, ALTV, Min, Max, Nmax, Nzeros, Mean, Median, Variance.\n",
        "\n",
        "**Cualitativas (dicotómicas)**\n",
        "\n",
        "Target. "
      ],
      "metadata": {
        "id": "RJEleUdkh9aR"
      }
    },
    {
      "cell_type": "markdown",
      "source": [
        "Habiendo analizado las variables, podemos concluir, de forma preliminar, que podemos prescindir de algunas de ellas. Por ejemplo, la variable `ID` solamente es el número de registro de cada caso. La variable `DR` es una constante, no cambia en ningún momento, así que no aportaría valor explicativo. Por otro lado, las variables `b` y `e` solo indican inicio y finalización de la monitorización, por lo que tampoco parece que aporten demasiado. Puesto que su incoroporación en la base de datos no aporta información a efectos prácticos, más tarde se optará por eliminar estas variables del resto del proyecto. "
      ],
      "metadata": {
        "id": "N6_FUF2KAf41"
      }
    },
    {
      "cell_type": "markdown",
      "source": [
        "##Analizando el Target o variable objetivo\n",
        "\n"
      ],
      "metadata": {
        "id": "2yEPDAaJ2fFw"
      }
    },
    {
      "cell_type": "markdown",
      "source": [
        "Podemos comenzar por volver a aplicar la función `describe`y `nunique`anteriormente mostrada centrándonos esta vez en el `Target`:\n",
        "\n"
      ],
      "metadata": {
        "id": "LBhOXl0s2kHD"
      }
    },
    {
      "cell_type": "code",
      "source": [
        "data[['Target']].describe().transpose()"
      ],
      "metadata": {
        "colab": {
          "base_uri": "https://localhost:8080/",
          "height": 81
        },
        "id": "1L-0CxuvDUdA",
        "outputId": "af0e686e-7bab-42c3-9fef-8b0d6b193141"
      },
      "execution_count": null,
      "outputs": [
        {
          "output_type": "execute_result",
          "data": {
            "text/plain": [
              "         count      mean       std  min  25%  50%  75%  max\n",
              "Target  2126.0  0.221543  0.415383  0.0  0.0  0.0  0.0  1.0"
            ],
            "text/html": [
              "\n",
              "  <div id=\"df-f2bd8685-f776-4572-bcd1-318f9d63a7f0\">\n",
              "    <div class=\"colab-df-container\">\n",
              "      <div>\n",
              "<style scoped>\n",
              "    .dataframe tbody tr th:only-of-type {\n",
              "        vertical-align: middle;\n",
              "    }\n",
              "\n",
              "    .dataframe tbody tr th {\n",
              "        vertical-align: top;\n",
              "    }\n",
              "\n",
              "    .dataframe thead th {\n",
              "        text-align: right;\n",
              "    }\n",
              "</style>\n",
              "<table border=\"1\" class=\"dataframe\">\n",
              "  <thead>\n",
              "    <tr style=\"text-align: right;\">\n",
              "      <th></th>\n",
              "      <th>count</th>\n",
              "      <th>mean</th>\n",
              "      <th>std</th>\n",
              "      <th>min</th>\n",
              "      <th>25%</th>\n",
              "      <th>50%</th>\n",
              "      <th>75%</th>\n",
              "      <th>max</th>\n",
              "    </tr>\n",
              "  </thead>\n",
              "  <tbody>\n",
              "    <tr>\n",
              "      <th>Target</th>\n",
              "      <td>2126.0</td>\n",
              "      <td>0.221543</td>\n",
              "      <td>0.415383</td>\n",
              "      <td>0.0</td>\n",
              "      <td>0.0</td>\n",
              "      <td>0.0</td>\n",
              "      <td>0.0</td>\n",
              "      <td>1.0</td>\n",
              "    </tr>\n",
              "  </tbody>\n",
              "</table>\n",
              "</div>\n",
              "      <button class=\"colab-df-convert\" onclick=\"convertToInteractive('df-f2bd8685-f776-4572-bcd1-318f9d63a7f0')\"\n",
              "              title=\"Convert this dataframe to an interactive table.\"\n",
              "              style=\"display:none;\">\n",
              "        \n",
              "  <svg xmlns=\"http://www.w3.org/2000/svg\" height=\"24px\"viewBox=\"0 0 24 24\"\n",
              "       width=\"24px\">\n",
              "    <path d=\"M0 0h24v24H0V0z\" fill=\"none\"/>\n",
              "    <path d=\"M18.56 5.44l.94 2.06.94-2.06 2.06-.94-2.06-.94-.94-2.06-.94 2.06-2.06.94zm-11 1L8.5 8.5l.94-2.06 2.06-.94-2.06-.94L8.5 2.5l-.94 2.06-2.06.94zm10 10l.94 2.06.94-2.06 2.06-.94-2.06-.94-.94-2.06-.94 2.06-2.06.94z\"/><path d=\"M17.41 7.96l-1.37-1.37c-.4-.4-.92-.59-1.43-.59-.52 0-1.04.2-1.43.59L10.3 9.45l-7.72 7.72c-.78.78-.78 2.05 0 2.83L4 21.41c.39.39.9.59 1.41.59.51 0 1.02-.2 1.41-.59l7.78-7.78 2.81-2.81c.8-.78.8-2.07 0-2.86zM5.41 20L4 18.59l7.72-7.72 1.47 1.35L5.41 20z\"/>\n",
              "  </svg>\n",
              "      </button>\n",
              "      \n",
              "  <style>\n",
              "    .colab-df-container {\n",
              "      display:flex;\n",
              "      flex-wrap:wrap;\n",
              "      gap: 12px;\n",
              "    }\n",
              "\n",
              "    .colab-df-convert {\n",
              "      background-color: #E8F0FE;\n",
              "      border: none;\n",
              "      border-radius: 50%;\n",
              "      cursor: pointer;\n",
              "      display: none;\n",
              "      fill: #1967D2;\n",
              "      height: 32px;\n",
              "      padding: 0 0 0 0;\n",
              "      width: 32px;\n",
              "    }\n",
              "\n",
              "    .colab-df-convert:hover {\n",
              "      background-color: #E2EBFA;\n",
              "      box-shadow: 0px 1px 2px rgba(60, 64, 67, 0.3), 0px 1px 3px 1px rgba(60, 64, 67, 0.15);\n",
              "      fill: #174EA6;\n",
              "    }\n",
              "\n",
              "    [theme=dark] .colab-df-convert {\n",
              "      background-color: #3B4455;\n",
              "      fill: #D2E3FC;\n",
              "    }\n",
              "\n",
              "    [theme=dark] .colab-df-convert:hover {\n",
              "      background-color: #434B5C;\n",
              "      box-shadow: 0px 1px 3px 1px rgba(0, 0, 0, 0.15);\n",
              "      filter: drop-shadow(0px 1px 2px rgba(0, 0, 0, 0.3));\n",
              "      fill: #FFFFFF;\n",
              "    }\n",
              "  </style>\n",
              "\n",
              "      <script>\n",
              "        const buttonEl =\n",
              "          document.querySelector('#df-f2bd8685-f776-4572-bcd1-318f9d63a7f0 button.colab-df-convert');\n",
              "        buttonEl.style.display =\n",
              "          google.colab.kernel.accessAllowed ? 'block' : 'none';\n",
              "\n",
              "        async function convertToInteractive(key) {\n",
              "          const element = document.querySelector('#df-f2bd8685-f776-4572-bcd1-318f9d63a7f0');\n",
              "          const dataTable =\n",
              "            await google.colab.kernel.invokeFunction('convertToInteractive',\n",
              "                                                     [key], {});\n",
              "          if (!dataTable) return;\n",
              "\n",
              "          const docLinkHtml = 'Like what you see? Visit the ' +\n",
              "            '<a target=\"_blank\" href=https://colab.research.google.com/notebooks/data_table.ipynb>data table notebook</a>'\n",
              "            + ' to learn more about interactive tables.';\n",
              "          element.innerHTML = '';\n",
              "          dataTable['output_type'] = 'display_data';\n",
              "          await google.colab.output.renderOutput(dataTable, element);\n",
              "          const docLink = document.createElement('div');\n",
              "          docLink.innerHTML = docLinkHtml;\n",
              "          element.appendChild(docLink);\n",
              "        }\n",
              "      </script>\n",
              "    </div>\n",
              "  </div>\n",
              "  "
            ]
          },
          "metadata": {},
          "execution_count": 6
        }
      ]
    },
    {
      "cell_type": "code",
      "source": [
        "data[['Target']].agg(['nunique']).transpose()"
      ],
      "metadata": {
        "colab": {
          "base_uri": "https://localhost:8080/",
          "height": 81
        },
        "id": "mMQ5RmvU-7a7",
        "outputId": "121f4377-292a-4d8c-fe1c-e69bf3611c04"
      },
      "execution_count": null,
      "outputs": [
        {
          "output_type": "execute_result",
          "data": {
            "text/plain": [
              "        nunique\n",
              "Target        2"
            ],
            "text/html": [
              "\n",
              "  <div id=\"df-1eff276d-c83d-49fa-8552-bf92790ef7e6\">\n",
              "    <div class=\"colab-df-container\">\n",
              "      <div>\n",
              "<style scoped>\n",
              "    .dataframe tbody tr th:only-of-type {\n",
              "        vertical-align: middle;\n",
              "    }\n",
              "\n",
              "    .dataframe tbody tr th {\n",
              "        vertical-align: top;\n",
              "    }\n",
              "\n",
              "    .dataframe thead th {\n",
              "        text-align: right;\n",
              "    }\n",
              "</style>\n",
              "<table border=\"1\" class=\"dataframe\">\n",
              "  <thead>\n",
              "    <tr style=\"text-align: right;\">\n",
              "      <th></th>\n",
              "      <th>nunique</th>\n",
              "    </tr>\n",
              "  </thead>\n",
              "  <tbody>\n",
              "    <tr>\n",
              "      <th>Target</th>\n",
              "      <td>2</td>\n",
              "    </tr>\n",
              "  </tbody>\n",
              "</table>\n",
              "</div>\n",
              "      <button class=\"colab-df-convert\" onclick=\"convertToInteractive('df-1eff276d-c83d-49fa-8552-bf92790ef7e6')\"\n",
              "              title=\"Convert this dataframe to an interactive table.\"\n",
              "              style=\"display:none;\">\n",
              "        \n",
              "  <svg xmlns=\"http://www.w3.org/2000/svg\" height=\"24px\"viewBox=\"0 0 24 24\"\n",
              "       width=\"24px\">\n",
              "    <path d=\"M0 0h24v24H0V0z\" fill=\"none\"/>\n",
              "    <path d=\"M18.56 5.44l.94 2.06.94-2.06 2.06-.94-2.06-.94-.94-2.06-.94 2.06-2.06.94zm-11 1L8.5 8.5l.94-2.06 2.06-.94-2.06-.94L8.5 2.5l-.94 2.06-2.06.94zm10 10l.94 2.06.94-2.06 2.06-.94-2.06-.94-.94-2.06-.94 2.06-2.06.94z\"/><path d=\"M17.41 7.96l-1.37-1.37c-.4-.4-.92-.59-1.43-.59-.52 0-1.04.2-1.43.59L10.3 9.45l-7.72 7.72c-.78.78-.78 2.05 0 2.83L4 21.41c.39.39.9.59 1.41.59.51 0 1.02-.2 1.41-.59l7.78-7.78 2.81-2.81c.8-.78.8-2.07 0-2.86zM5.41 20L4 18.59l7.72-7.72 1.47 1.35L5.41 20z\"/>\n",
              "  </svg>\n",
              "      </button>\n",
              "      \n",
              "  <style>\n",
              "    .colab-df-container {\n",
              "      display:flex;\n",
              "      flex-wrap:wrap;\n",
              "      gap: 12px;\n",
              "    }\n",
              "\n",
              "    .colab-df-convert {\n",
              "      background-color: #E8F0FE;\n",
              "      border: none;\n",
              "      border-radius: 50%;\n",
              "      cursor: pointer;\n",
              "      display: none;\n",
              "      fill: #1967D2;\n",
              "      height: 32px;\n",
              "      padding: 0 0 0 0;\n",
              "      width: 32px;\n",
              "    }\n",
              "\n",
              "    .colab-df-convert:hover {\n",
              "      background-color: #E2EBFA;\n",
              "      box-shadow: 0px 1px 2px rgba(60, 64, 67, 0.3), 0px 1px 3px 1px rgba(60, 64, 67, 0.15);\n",
              "      fill: #174EA6;\n",
              "    }\n",
              "\n",
              "    [theme=dark] .colab-df-convert {\n",
              "      background-color: #3B4455;\n",
              "      fill: #D2E3FC;\n",
              "    }\n",
              "\n",
              "    [theme=dark] .colab-df-convert:hover {\n",
              "      background-color: #434B5C;\n",
              "      box-shadow: 0px 1px 3px 1px rgba(0, 0, 0, 0.15);\n",
              "      filter: drop-shadow(0px 1px 2px rgba(0, 0, 0, 0.3));\n",
              "      fill: #FFFFFF;\n",
              "    }\n",
              "  </style>\n",
              "\n",
              "      <script>\n",
              "        const buttonEl =\n",
              "          document.querySelector('#df-1eff276d-c83d-49fa-8552-bf92790ef7e6 button.colab-df-convert');\n",
              "        buttonEl.style.display =\n",
              "          google.colab.kernel.accessAllowed ? 'block' : 'none';\n",
              "\n",
              "        async function convertToInteractive(key) {\n",
              "          const element = document.querySelector('#df-1eff276d-c83d-49fa-8552-bf92790ef7e6');\n",
              "          const dataTable =\n",
              "            await google.colab.kernel.invokeFunction('convertToInteractive',\n",
              "                                                     [key], {});\n",
              "          if (!dataTable) return;\n",
              "\n",
              "          const docLinkHtml = 'Like what you see? Visit the ' +\n",
              "            '<a target=\"_blank\" href=https://colab.research.google.com/notebooks/data_table.ipynb>data table notebook</a>'\n",
              "            + ' to learn more about interactive tables.';\n",
              "          element.innerHTML = '';\n",
              "          dataTable['output_type'] = 'display_data';\n",
              "          await google.colab.output.renderOutput(dataTable, element);\n",
              "          const docLink = document.createElement('div');\n",
              "          docLink.innerHTML = docLinkHtml;\n",
              "          element.appendChild(docLink);\n",
              "        }\n",
              "      </script>\n",
              "    </div>\n",
              "  </div>\n",
              "  "
            ]
          },
          "metadata": {},
          "execution_count": 7
        }
      ]
    },
    {
      "cell_type": "markdown",
      "source": [
        "De aquí podemos sacar cosas interesantes, como que la variable es dicotómica y que el valor mayoritario es el 0.\n",
        "\n",
        "Vemos que la media de la variable `Target`es 0.221543, esto significa que el porcentaje de estados fetales anormales es de 22.15% y el porcentaje de estados fetales normales es (1 - 0.221543)*100, es decir, 77.85%. Esto es así porque la variable, como ya vimos en el punto anterior, es una variable dicotómica codificada con 0 y 1. Si asumimos que el código 0 corresponde a estados de fetos normales, entonces la media nos dará la proporción de fetos anormales (sumas de valores igual a 1 dividido el total). \n",
        "\n",
        "Asumimos que los fetos normales son 0 ya que el 0 es el valor más usual en la variable, por lo que, asumiendo también que no hay sesgo en esa variable, se corresponería más a esa \"normalidad\" que a la \"anormalidad\". \n",
        "\n",
        "Podemos también hacer un análisis visual obteniendo un gráfico para las freucencias relativas:"
      ],
      "metadata": {
        "id": "X29f9HzbDXVu"
      }
    },
    {
      "cell_type": "code",
      "source": [
        "a, b = data['Target'].value_counts()\n",
        "plt.figure(figsize = (13,5))\n",
        "plt.subplot(121)\n",
        "plt.pie([a,b], labels = ['Normal', 'Anormal'], autopct = '%1.0f%%')\n",
        "print(data['Target'].value_counts())"
      ],
      "metadata": {
        "colab": {
          "base_uri": "https://localhost:8080/",
          "height": 355
        },
        "id": "3VFdr_OtwilF",
        "outputId": "8aeaae00-beec-4eaf-94ef-bc34cf8d19d4"
      },
      "execution_count": null,
      "outputs": [
        {
          "output_type": "stream",
          "name": "stdout",
          "text": [
            "0    1655\n",
            "1     471\n",
            "Name: Target, dtype: int64\n"
          ]
        },
        {
          "output_type": "display_data",
          "data": {
            "text/plain": [
              "<Figure size 936x360 with 1 Axes>"
            ],
            "image/png": "[encoded data removed]"
          },
          "metadata": {}
        }
      ]
    },
    {
      "cell_type": "markdown",
      "source": [
        "Tal y como habíamos adelantado anteriormente, el 78% de los casos corresponden al valor 0 (Normal) mientras que el 22% restante corresponde a la categoría \"Anormal\". "
      ],
      "metadata": {
        "id": "To6XG0M8_S0O"
      }
    },
    {
      "cell_type": "markdown",
      "source": [
        "##Analizando variables explicativas: Medidas de centralización, localización y dispersión"
      ],
      "metadata": {
        "id": "QA3NLbP2ZCef"
      }
    },
    {
      "cell_type": "markdown",
      "source": [
        "Algo que no puede faltar en un análisis de datos son medidas de centralización, localización y dispersión. A continuación obtendremos las medidas de centralización, localización y dispersión de las variables explicativas de la base de datos. Como ya adelantábamos anteriormente, dejaremos fuera las variables `Id`, `DR`, `b`, `e` y a la variable objetivo `Target`:"
      ],
      "metadata": {
        "id": "g1UnMITQo1k0"
      }
    },
    {
      "cell_type": "code",
      "source": [
        "data_var_exp = data.drop(['ID', 'DR', 'Target', 'b', 'e'], axis = 1)\n",
        "data_var_exp.describe().transpose()"
      ],
      "metadata": {
        "colab": {
          "base_uri": "https://localhost:8080/",
          "height": 708
        },
        "id": "IidmQolIZZFe",
        "outputId": "fccd9715-1bdd-40d9-a88e-86460d8af9ff"
      },
      "execution_count": null,
      "outputs": [
        {
          "output_type": "execute_result",
          "data": {
            "text/plain": [
              "           count        mean        std    min    25%    50%    75%    max\n",
              "LBE       2126.0  133.303857   9.840844  106.0  126.0  133.0  140.0  160.0\n",
              "AC        2126.0    2.722484   3.560850    0.0    0.0    1.0    4.0   26.0\n",
              "FM        2126.0    7.241298  37.125309    0.0    0.0    0.0    2.0  564.0\n",
              "UC        2126.0    3.659925   2.847094    0.0    1.0    3.0    5.0   23.0\n",
              "ASTV      2126.0   46.990122  17.192814   12.0   32.0   49.0   61.0   87.0\n",
              "MSTV      2126.0    1.332785   0.883241    0.2    0.7    1.2    1.7    7.0\n",
              "ALTV      2126.0    9.846660  18.396880    0.0    0.0    0.0   11.0   91.0\n",
              "MLTV      2126.0    8.187629   5.628247    0.0    4.6    7.4   10.8   50.7\n",
              "DL        2126.0    1.570085   2.499229    0.0    0.0    0.0    3.0   16.0\n",
              "DS        2126.0    0.003293   0.057300    0.0    0.0    0.0    0.0    1.0\n",
              "DP        2126.0    0.126058   0.464361    0.0    0.0    0.0    0.0    4.0\n",
              "Width     2126.0   70.445908  38.955693    3.0   37.0   67.5  100.0  180.0\n",
              "Min       2126.0   93.579492  29.560212   50.0   67.0   93.0  120.0  159.0\n",
              "Max       2126.0  164.025400  17.944183  122.0  152.0  162.0  174.0  238.0\n",
              "Nmax      2126.0    4.068203   2.949386    0.0    2.0    3.0    6.0   18.0\n",
              "Nzeros    2126.0    0.323612   0.706059    0.0    0.0    0.0    0.0   10.0\n",
              "Mode      2126.0  137.452023  16.381289   60.0  129.0  139.0  148.0  187.0\n",
              "Mean      2126.0  134.610536  15.593596   73.0  125.0  136.0  145.0  182.0\n",
              "Median    2126.0  138.090310  14.466589   77.0  129.0  139.0  148.0  186.0\n",
              "Variance  2126.0   18.808090  28.977636    0.0    2.0    7.0   24.0  269.0\n",
              "Tendency  2126.0    0.320320   0.610829   -1.0    0.0    0.0    1.0    1.0"
            ],
            "text/html": [
              "\n",
              "  <div id=\"df-45b74a95-68ad-4b11-abb3-7fbc3ef04473\">\n",
              "    <div class=\"colab-df-container\">\n",
              "      <div>\n",
              "<style scoped>\n",
              "    .dataframe tbody tr th:only-of-type {\n",
              "        vertical-align: middle;\n",
              "    }\n",
              "\n",
              "    .dataframe tbody tr th {\n",
              "        vertical-align: top;\n",
              "    }\n",
              "\n",
              "    .dataframe thead th {\n",
              "        text-align: right;\n",
              "    }\n",
              "</style>\n",
              "<table border=\"1\" class=\"dataframe\">\n",
              "  <thead>\n",
              "    <tr style=\"text-align: right;\">\n",
              "      <th></th>\n",
              "      <th>count</th>\n",
              "      <th>mean</th>\n",
              "      <th>std</th>\n",
              "      <th>min</th>\n",
              "      <th>25%</th>\n",
              "      <th>50%</th>\n",
              "      <th>75%</th>\n",
              "      <th>max</th>\n",
              "    </tr>\n",
              "  </thead>\n",
              "  <tbody>\n",
              "    <tr>\n",
              "      <th>LBE</th>\n",
              "      <td>2126.0</td>\n",
              "      <td>133.303857</td>\n",
              "      <td>9.840844</td>\n",
              "      <td>106.0</td>\n",
              "      <td>126.0</td>\n",
              "      <td>133.0</td>\n",
              "      <td>140.0</td>\n",
              "      <td>160.0</td>\n",
              "    </tr>\n",
              "    <tr>\n",
              "      <th>AC</th>\n",
              "      <td>2126.0</td>\n",
              "      <td>2.722484</td>\n",
              "      <td>3.560850</td>\n",
              "      <td>0.0</td>\n",
              "      <td>0.0</td>\n",
              "      <td>1.0</td>\n",
              "      <td>4.0</td>\n",
              "      <td>26.0</td>\n",
              "    </tr>\n",
              "    <tr>\n",
              "      <th>FM</th>\n",
              "      <td>2126.0</td>\n",
              "      <td>7.241298</td>\n",
              "      <td>37.125309</td>\n",
              "      <td>0.0</td>\n",
              "      <td>0.0</td>\n",
              "      <td>0.0</td>\n",
              "      <td>2.0</td>\n",
              "      <td>564.0</td>\n",
              "    </tr>\n",
              "    <tr>\n",
              "      <th>UC</th>\n",
              "      <td>2126.0</td>\n",
              "      <td>3.659925</td>\n",
              "      <td>2.847094</td>\n",
              "      <td>0.0</td>\n",
              "      <td>1.0</td>\n",
              "      <td>3.0</td>\n",
              "      <td>5.0</td>\n",
              "      <td>23.0</td>\n",
              "    </tr>\n",
              "    <tr>\n",
              "      <th>ASTV</th>\n",
              "      <td>2126.0</td>\n",
              "      <td>46.990122</td>\n",
              "      <td>17.192814</td>\n",
              "      <td>12.0</td>\n",
              "      <td>32.0</td>\n",
              "      <td>49.0</td>\n",
              "      <td>61.0</td>\n",
              "      <td>87.0</td>\n",
              "    </tr>\n",
              "    <tr>\n",
              "      <th>MSTV</th>\n",
              "      <td>2126.0</td>\n",
              "      <td>1.332785</td>\n",
              "      <td>0.883241</td>\n",
              "      <td>0.2</td>\n",
              "      <td>0.7</td>\n",
              "      <td>1.2</td>\n",
              "      <td>1.7</td>\n",
              "      <td>7.0</td>\n",
              "    </tr>\n",
              "    <tr>\n",
              "      <th>ALTV</th>\n",
              "      <td>2126.0</td>\n",
              "      <td>9.846660</td>\n",
              "      <td>18.396880</td>\n",
              "      <td>0.0</td>\n",
              "      <td>0.0</td>\n",
              "      <td>0.0</td>\n",
              "      <td>11.0</td>\n",
              "      <td>91.0</td>\n",
              "    </tr>\n",
              "    <tr>\n",
              "      <th>MLTV</th>\n",
              "      <td>2126.0</td>\n",
              "      <td>8.187629</td>\n",
              "      <td>5.628247</td>\n",
              "      <td>0.0</td>\n",
              "      <td>4.6</td>\n",
              "      <td>7.4</td>\n",
              "      <td>10.8</td>\n",
              "      <td>50.7</td>\n",
              "    </tr>\n",
              "    <tr>\n",
              "      <th>DL</th>\n",
              "      <td>2126.0</td>\n",
              "      <td>1.570085</td>\n",
              "      <td>2.499229</td>\n",
              "      <td>0.0</td>\n",
              "      <td>0.0</td>\n",
              "      <td>0.0</td>\n",
              "      <td>3.0</td>\n",
              "      <td>16.0</td>\n",
              "    </tr>\n",
              "    <tr>\n",
              "      <th>DS</th>\n",
              "      <td>2126.0</td>\n",
              "      <td>0.003293</td>\n",
              "      <td>0.057300</td>\n",
              "      <td>0.0</td>\n",
              "      <td>0.0</td>\n",
              "      <td>0.0</td>\n",
              "      <td>0.0</td>\n",
              "      <td>1.0</td>\n",
              "    </tr>\n",
              "    <tr>\n",
              "      <th>DP</th>\n",
              "      <td>2126.0</td>\n",
              "      <td>0.126058</td>\n",
              "      <td>0.464361</td>\n",
              "      <td>0.0</td>\n",
              "      <td>0.0</td>\n",
              "      <td>0.0</td>\n",
              "      <td>0.0</td>\n",
              "      <td>4.0</td>\n",
              "    </tr>\n",
              "    <tr>\n",
              "      <th>Width</th>\n",
              "      <td>2126.0</td>\n",
              "      <td>70.445908</td>\n",
              "      <td>38.955693</td>\n",
              "      <td>3.0</td>\n",
              "      <td>37.0</td>\n",
              "      <td>67.5</td>\n",
              "      <td>100.0</td>\n",
              "      <td>180.0</td>\n",
              "    </tr>\n",
              "    <tr>\n",
              "      <th>Min</th>\n",
              "      <td>2126.0</td>\n",
              "      <td>93.579492</td>\n",
              "      <td>29.560212</td>\n",
              "      <td>50.0</td>\n",
              "      <td>67.0</td>\n",
              "      <td>93.0</td>\n",
              "      <td>120.0</td>\n",
              "      <td>159.0</td>\n",
              "    </tr>\n",
              "    <tr>\n",
              "      <th>Max</th>\n",
              "      <td>2126.0</td>\n",
              "      <td>164.025400</td>\n",
              "      <td>17.944183</td>\n",
              "      <td>122.0</td>\n",
              "      <td>152.0</td>\n",
              "      <td>162.0</td>\n",
              "      <td>174.0</td>\n",
              "      <td>238.0</td>\n",
              "    </tr>\n",
              "    <tr>\n",
              "      <th>Nmax</th>\n",
              "      <td>2126.0</td>\n",
              "      <td>4.068203</td>\n",
              "      <td>2.949386</td>\n",
              "      <td>0.0</td>\n",
              "      <td>2.0</td>\n",
              "      <td>3.0</td>\n",
              "      <td>6.0</td>\n",
              "      <td>18.0</td>\n",
              "    </tr>\n",
              "    <tr>\n",
              "      <th>Nzeros</th>\n",
              "      <td>2126.0</td>\n",
              "      <td>0.323612</td>\n",
              "      <td>0.706059</td>\n",
              "      <td>0.0</td>\n",
              "      <td>0.0</td>\n",
              "      <td>0.0</td>\n",
              "      <td>0.0</td>\n",
              "      <td>10.0</td>\n",
              "    </tr>\n",
              "    <tr>\n",
              "      <th>Mode</th>\n",
              "      <td>2126.0</td>\n",
              "      <td>137.452023</td>\n",
              "      <td>16.381289</td>\n",
              "      <td>60.0</td>\n",
              "      <td>129.0</td>\n",
              "      <td>139.0</td>\n",
              "      <td>148.0</td>\n",
              "      <td>187.0</td>\n",
              "    </tr>\n",
              "    <tr>\n",
              "      <th>Mean</th>\n",
              "      <td>2126.0</td>\n",
              "      <td>134.610536</td>\n",
              "      <td>15.593596</td>\n",
              "      <td>73.0</td>\n",
              "      <td>125.0</td>\n",
              "      <td>136.0</td>\n",
              "      <td>145.0</td>\n",
              "      <td>182.0</td>\n",
              "    </tr>\n",
              "    <tr>\n",
              "      <th>Median</th>\n",
              "      <td>2126.0</td>\n",
              "      <td>138.090310</td>\n",
              "      <td>14.466589</td>\n",
              "      <td>77.0</td>\n",
              "      <td>129.0</td>\n",
              "      <td>139.0</td>\n",
              "      <td>148.0</td>\n",
              "      <td>186.0</td>\n",
              "    </tr>\n",
              "    <tr>\n",
              "      <th>Variance</th>\n",
              "      <td>2126.0</td>\n",
              "      <td>18.808090</td>\n",
              "      <td>28.977636</td>\n",
              "      <td>0.0</td>\n",
              "      <td>2.0</td>\n",
              "      <td>7.0</td>\n",
              "      <td>24.0</td>\n",
              "      <td>269.0</td>\n",
              "    </tr>\n",
              "    <tr>\n",
              "      <th>Tendency</th>\n",
              "      <td>2126.0</td>\n",
              "      <td>0.320320</td>\n",
              "      <td>0.610829</td>\n",
              "      <td>-1.0</td>\n",
              "      <td>0.0</td>\n",
              "      <td>0.0</td>\n",
              "      <td>1.0</td>\n",
              "      <td>1.0</td>\n",
              "    </tr>\n",
              "  </tbody>\n",
              "</table>\n",
              "</div>\n",
              "      <button class=\"colab-df-convert\" onclick=\"convertToInteractive('df-45b74a95-68ad-4b11-abb3-7fbc3ef04473')\"\n",
              "              title=\"Convert this dataframe to an interactive table.\"\n",
              "              style=\"display:none;\">\n",
              "        \n",
              "  <svg xmlns=\"http://www.w3.org/2000/svg\" height=\"24px\"viewBox=\"0 0 24 24\"\n",
              "       width=\"24px\">\n",
              "    <path d=\"M0 0h24v24H0V0z\" fill=\"none\"/>\n",
              "    <path d=\"M18.56 5.44l.94 2.06.94-2.06 2.06-.94-2.06-.94-.94-2.06-.94 2.06-2.06.94zm-11 1L8.5 8.5l.94-2.06 2.06-.94-2.06-.94L8.5 2.5l-.94 2.06-2.06.94zm10 10l.94 2.06.94-2.06 2.06-.94-2.06-.94-.94-2.06-.94 2.06-2.06.94z\"/><path d=\"M17.41 7.96l-1.37-1.37c-.4-.4-.92-.59-1.43-.59-.52 0-1.04.2-1.43.59L10.3 9.45l-7.72 7.72c-.78.78-.78 2.05 0 2.83L4 21.41c.39.39.9.59 1.41.59.51 0 1.02-.2 1.41-.59l7.78-7.78 2.81-2.81c.8-.78.8-2.07 0-2.86zM5.41 20L4 18.59l7.72-7.72 1.47 1.35L5.41 20z\"/>\n",
              "  </svg>\n",
              "      </button>\n",
              "      \n",
              "  <style>\n",
              "    .colab-df-container {\n",
              "      display:flex;\n",
              "      flex-wrap:wrap;\n",
              "      gap: 12px;\n",
              "    }\n",
              "\n",
              "    .colab-df-convert {\n",
              "      background-color: #E8F0FE;\n",
              "      border: none;\n",
              "      border-radius: 50%;\n",
              "      cursor: pointer;\n",
              "      display: none;\n",
              "      fill: #1967D2;\n",
              "      height: 32px;\n",
              "      padding: 0 0 0 0;\n",
              "      width: 32px;\n",
              "    }\n",
              "\n",
              "    .colab-df-convert:hover {\n",
              "      background-color: #E2EBFA;\n",
              "      box-shadow: 0px 1px 2px rgba(60, 64, 67, 0.3), 0px 1px 3px 1px rgba(60, 64, 67, 0.15);\n",
              "      fill: #174EA6;\n",
              "    }\n",
              "\n",
              "    [theme=dark] .colab-df-convert {\n",
              "      background-color: #3B4455;\n",
              "      fill: #D2E3FC;\n",
              "    }\n",
              "\n",
              "    [theme=dark] .colab-df-convert:hover {\n",
              "      background-color: #434B5C;\n",
              "      box-shadow: 0px 1px 3px 1px rgba(0, 0, 0, 0.15);\n",
              "      filter: drop-shadow(0px 1px 2px rgba(0, 0, 0, 0.3));\n",
              "      fill: #FFFFFF;\n",
              "    }\n",
              "  </style>\n",
              "\n",
              "      <script>\n",
              "        const buttonEl =\n",
              "          document.querySelector('#df-45b74a95-68ad-4b11-abb3-7fbc3ef04473 button.colab-df-convert');\n",
              "        buttonEl.style.display =\n",
              "          google.colab.kernel.accessAllowed ? 'block' : 'none';\n",
              "\n",
              "        async function convertToInteractive(key) {\n",
              "          const element = document.querySelector('#df-45b74a95-68ad-4b11-abb3-7fbc3ef04473');\n",
              "          const dataTable =\n",
              "            await google.colab.kernel.invokeFunction('convertToInteractive',\n",
              "                                                     [key], {});\n",
              "          if (!dataTable) return;\n",
              "\n",
              "          const docLinkHtml = 'Like what you see? Visit the ' +\n",
              "            '<a target=\"_blank\" href=https://colab.research.google.com/notebooks/data_table.ipynb>data table notebook</a>'\n",
              "            + ' to learn more about interactive tables.';\n",
              "          element.innerHTML = '';\n",
              "          dataTable['output_type'] = 'display_data';\n",
              "          await google.colab.output.renderOutput(dataTable, element);\n",
              "          const docLink = document.createElement('div');\n",
              "          docLink.innerHTML = docLinkHtml;\n",
              "          element.appendChild(docLink);\n",
              "        }\n",
              "      </script>\n",
              "    </div>\n",
              "  </div>\n",
              "  "
            ]
          },
          "metadata": {},
          "execution_count": 9
        }
      ]
    },
    {
      "cell_type": "markdown",
      "source": [
        "Algo que podríamos destacar es la elevada dispersión, sobre todo en las variables `FM` y `ALTV`. \n",
        "\n",
        "Vemos también que es posible que, atendiendo a al rango de las variables, haya valores outliers. Podemos verlo atendiendo a los máximos, mínimos y cuartiles de cada una de las variables. En el caso de la variable `FM`, por ejemplo, vemos que la media es de 7.241, la mediana es 0, y el máximo es 564. Claramente esta variable posee valores atípicos. \n",
        "\n",
        "Para un mejor análisis de la distribución de las variables, podemos utilizar histogramas:"
      ],
      "metadata": {
        "id": "htyyv2ZFpW7O"
      }
    },
    {
      "cell_type": "markdown",
      "source": [
        "##Histograma para las variables explicativas"
      ],
      "metadata": {
        "id": "f3JemB6EcAjj"
      }
    },
    {
      "cell_type": "markdown",
      "source": [
        "El análisis preliminar de los datos pasa por buenas visualizaciones que nos ayuden a comprender nuestro dataframe. Los histogramas son fundamentales para analizar la distribución de variables cuantitativas:"
      ],
      "metadata": {
        "id": "8AGi6EJjqBQs"
      }
    },
    {
      "cell_type": "code",
      "source": [
        "fig, ax = plt.subplots(1,1, figsize=(15,15))\n",
        "plt.style.use('seaborn')\n",
        "data_var_exp.loc[:].hist(ax=ax)"
      ],
      "metadata": {
        "id": "KoKNbvpjcIx5",
        "colab": {
          "base_uri": "https://localhost:8080/",
          "height": 1000
        },
        "outputId": "5d7914fe-5514-4bb9-f4f1-a946dd4394bf"
      },
      "execution_count": null,
      "outputs": [
        {
          "output_type": "stream",
          "name": "stderr",
          "text": [
            "/usr/local/lib/python3.7/dist-packages/ipykernel_launcher.py:3: UserWarning: To output multiple subplots, the figure containing the passed axes is being cleared\n",
            "  This is separate from the ipykernel package so we can avoid doing imports until\n"
          ]
        },
        {
          "output_type": "execute_result",
          "data": {
            "text/plain": [
              "array([[<matplotlib.axes._subplots.AxesSubplot object at 0x7f690f1779d0>,\n",
              "        <matplotlib.axes._subplots.AxesSubplot object at 0x7f690ea5eb90>,\n",
              "        <matplotlib.axes._subplots.AxesSubplot object at 0x7f690ea221d0>,\n",
              "        <matplotlib.axes._subplots.AxesSubplot object at 0x7f690eb10350>,\n",
              "        <matplotlib.axes._subplots.AxesSubplot object at 0x7f690ea07fd0>],\n",
              "       [<matplotlib.axes._subplots.AxesSubplot object at 0x7f690e9cb650>,\n",
              "        <matplotlib.axes._subplots.AxesSubplot object at 0x7f690e97fcd0>,\n",
              "        <matplotlib.axes._subplots.AxesSubplot object at 0x7f690e944250>,\n",
              "        <matplotlib.axes._subplots.AxesSubplot object at 0x7f690e944290>,\n",
              "        <matplotlib.axes._subplots.AxesSubplot object at 0x7f690e8fb990>],\n",
              "       [<matplotlib.axes._subplots.AxesSubplot object at 0x7f690e8734d0>,\n",
              "        <matplotlib.axes._subplots.AxesSubplot object at 0x7f690e82bad0>,\n",
              "        <matplotlib.axes._subplots.AxesSubplot object at 0x7f690e7f0110>,\n",
              "        <matplotlib.axes._subplots.AxesSubplot object at 0x7f690e7a5710>,\n",
              "        <matplotlib.axes._subplots.AxesSubplot object at 0x7f690ea8be90>],\n",
              "       [<matplotlib.axes._subplots.AxesSubplot object at 0x7f690e992850>,\n",
              "        <matplotlib.axes._subplots.AxesSubplot object at 0x7f690f081c90>,\n",
              "        <matplotlib.axes._subplots.AxesSubplot object at 0x7f690f032810>,\n",
              "        <matplotlib.axes._subplots.AxesSubplot object at 0x7f690e6ebbd0>,\n",
              "        <matplotlib.axes._subplots.AxesSubplot object at 0x7f690e6ad210>],\n",
              "       [<matplotlib.axes._subplots.AxesSubplot object at 0x7f690e663810>,\n",
              "        <matplotlib.axes._subplots.AxesSubplot object at 0x7f690e619e10>,\n",
              "        <matplotlib.axes._subplots.AxesSubplot object at 0x7f690e5dd450>,\n",
              "        <matplotlib.axes._subplots.AxesSubplot object at 0x7f690e615a50>,\n",
              "        <matplotlib.axes._subplots.AxesSubplot object at 0x7f690e5c1b50>]],\n",
              "      dtype=object)"
            ]
          },
          "metadata": {},
          "execution_count": 10
        },
        {
          "output_type": "display_data",
          "data": {
            "text/plain": [
              "<Figure size 1080x1080 with 25 Axes>"
            ],
            "image/png": "[encoded data removed]"
          },
          "metadata": {
            "needs_background": "light"
          }
        }
      ]
    },
    {
      "cell_type": "markdown",
      "source": [
        "Lo que podemos comporbar aquí, por ejemplo, es como se distribuye cada variable en base a medidas de centralidad y dispersión como la media o la mediana. En el caso de la variable `LBE` o `Mean`, vemos que la mediana de la distribución más o menos coincide con la media, asemejándose su distribución a una campana de Gauss. Sin embargo, en el caso de la variables como `FM`, vemos que la media está por encima de la mediana, lo que indica la existencia de acumulación de valores pequeños y la posible existencia de valores atípicos. \n",
        "\n",
        "Y es que los histogramas son tambien útiles para detectar valores atípicos. En el caso de variables como `FM`, `DS`, `DP` o `Variance` podemos observar que en su distribución aparecen pequeñas barras de histograma muy a la derecha del eje x y alejadas del grueso de la distribución. Eso indica que la variable toma valores extremos.\n",
        "\n",
        "También vemos claramente cuando una variable es categórica o discreta, como en el caso de `Tendency`. \n",
        "\n"
      ],
      "metadata": {
        "id": "NiW2jofjrCP5"
      }
    },
    {
      "cell_type": "markdown",
      "source": [
        "##Gráfico boxplot para las variables explicativas"
      ],
      "metadata": {
        "id": "0KpYE35neMz7"
      }
    },
    {
      "cell_type": "markdown",
      "source": [
        "Con la visualización de histogramas para cada variable explicativa ya pudimos observar la distribución de estas variables e incluso la existencia de valores atípicos. A continuación obtendremos gráficos boxplot, con los que también podemos ver la distribución de las variables y detectar outliers de una forma más precisa:"
      ],
      "metadata": {
        "id": "Nc1vvExzrPlJ"
      }
    },
    {
      "cell_type": "code",
      "source": [
        "data.boxplot = data.drop(['b', 'e', 'ID', 'Target', 'DR'], axis = 1)\n",
        "plt.figure(figsize = (15,15))\n",
        "data_box_plot = data.boxplot.boxplot(vert = False, color = '#000054')"
      ],
      "metadata": {
        "colab": {
          "base_uri": "https://localhost:8080/",
          "height": 863
        },
        "id": "id89B2VUeJLK",
        "outputId": "ca09ba74-d191-4e28-d513-210f70701d96"
      },
      "execution_count": null,
      "outputs": [
        {
          "output_type": "display_data",
          "data": {
            "text/plain": [
              "<Figure size 1080x1080 with 1 Axes>"
            ],
            "image/png": "[encoded data removed]"
          },
          "metadata": {}
        }
      ]
    },
    {
      "cell_type": "markdown",
      "source": [
        "Como vemos, parece haber valores atípicos en muchas variables, siendo la variable `FM` un caso claramente destacable. Las únicas variables potencialmente explicativas que parecen tener una distribución sin outliers son las variables de `Tendency`, `ASTV`, `Min`, `Width` y `LBE`. Tener esta información ya disponible en el análisis exploratorio nos ayudará posteriormente para realizar una mejor modelización. Conforme vaya avanzando el análisis, veremos si es preciso realizar modificaciones importantes, como pueda ser el categorizar ciertas variables cuantitativas o sustituir ciertos valores outliers por medidas de centralización. "
      ],
      "metadata": {
        "id": "YzoBd8srnGc6"
      }
    },
    {
      "cell_type": "markdown",
      "source": [
        "##Correlación entre variables"
      ],
      "metadata": {
        "id": "nMpsW7t-oae7"
      }
    },
    {
      "cell_type": "markdown",
      "source": [
        "Eliminamos definitivamente las variables que hemos visto que no aportaban mucha información de nuestro conjunto de datos original:"
      ],
      "metadata": {
        "id": "IJVrQYMgrC-_"
      }
    },
    {
      "cell_type": "code",
      "source": [
        "data = data.drop(['ID', 'b', 'e', 'DR'], axis = 1)"
      ],
      "metadata": {
        "id": "c8TrGvGMpwue"
      },
      "execution_count": null,
      "outputs": []
    },
    {
      "cell_type": "markdown",
      "source": [
        "A continuación, indagamos en la correlación entre las variables del conjunto de datos, centrándonos en las relaciones bivariadas entre las variables explicativas y el target. Para ello usamos la matriz de correlaciones:"
      ],
      "metadata": {
        "id": "EUCi40flrSSU"
      }
    },
    {
      "cell_type": "code",
      "source": [
        "plt.figure(figsize=(20,20)) \n",
        "corr = data.corr() \n",
        "cmap = sns.color_palette(\"light:b\", as_cmap=True) \n",
        "sns.heatmap(corr, annot = True, cmap = cmap)"
      ],
      "metadata": {
        "colab": {
          "base_uri": "https://localhost:8080/",
          "height": 1000
        },
        "id": "31MEh7r4pEIg",
        "outputId": "1e970c58-f539-466d-91e1-ce6a937aced6"
      },
      "execution_count": null,
      "outputs": [
        {
          "output_type": "execute_result",
          "data": {
            "text/plain": [
              "<matplotlib.axes._subplots.AxesSubplot at 0x7f690f8bd7d0>"
            ]
          },
          "metadata": {},
          "execution_count": 13
        },
        {
          "output_type": "display_data",
          "data": {
            "text/plain": [
              "<Figure size 1440x1440 with 2 Axes>"
            ],
            "image/png": "[encoded data removed]"
          },
          "metadata": {}
        }
      ]
    },
    {
      "cell_type": "markdown",
      "source": [
        "Como se observa en el mapa de calor, las variables con un nivel de correlación con el target más elevado son `ASTV` (porcentaje de tiempo con variabilidad anormal a corto plazo), `ALTV`(porcentaje de tiempo con variabilidad anormal a largo plazo), `AC`(número de aceleraciones por minuto) con correlación negativa y `DP` (número de desaceleraciones prolongadas por segundo).\n",
        "\n",
        "Tampoco podemos dejar de lado la existencia de variables explicativas relacionadas entre sí, como es el caso de de la variable `Min` relacionada con `Width`, con un coeficiente de correlación de -0.9, o la variable `Min` con `MSTV` (-0.62), o con `Nmax` (-0.67). Recordemos que la hipotesis de partida para del algoritmo Naive Bayes es precisamente que las variables explicativas no estén muy relacionadas entre sí. En principio, a nivel general, no parece que pueda ocasionarnos muchos problemas la existencia de un poco de colinealidad, pero debemos tener en cuenta que existen algunas variables explicativas muy correlacionadas. "
      ],
      "metadata": {
        "id": "bjoOIpNKrd_y"
      }
    },
    {
      "cell_type": "markdown",
      "source": [
        "#Fase 2: Muestreo: subconjunto de entrenamiento y test"
      ],
      "metadata": {
        "id": "NLL3K-flsDro"
      }
    },
    {
      "cell_type": "markdown",
      "source": [
        "A continuación, antes de proceder a la modelización, realizaremos un muestreo donde extraeremos del conjunto total de datos dos subconjuntos, uno para el entrenamiento del algoritmo y otro para el testeo o validazión. \n",
        "\n",
        "Lo normal es elegir varios tipos de subconjuntos de entrenamiento y test, no solamente quedarnos con una partición, ya que es posible que haya distintas formas de dividir el conjunto de datos que den mejores resultados. En el caso que nos ocupa, trabajaremo con el 60% de las observaciones para el subconjunto de entrenamiento y con el 40% restantes para el subconjunto de test:"
      ],
      "metadata": {
        "id": "7U4WIBnrsHH-"
      }
    },
    {
      "cell_type": "code",
      "source": [
        "from sklearn.model_selection import train_test_split\n",
        "x = data.loc[:, data.columns != \"Target\"]\n",
        "y= data.loc [:,data.columns == \"Target\"]\n",
        "\n",
        "x_train, x_test, y_train, y_test = train_test_split (x, y,\n",
        "                                                     test_size = 0.40, random_state = 0)\n",
        "x_train.info()"
      ],
      "metadata": {
        "colab": {
          "base_uri": "https://localhost:8080/"
        },
        "id": "gH_i1hRdsQS4",
        "outputId": "370eef6c-00be-4066-dfc8-0d5f8e840fe3"
      },
      "execution_count": null,
      "outputs": [
        {
          "output_type": "stream",
          "name": "stdout",
          "text": [
            "<class 'pandas.core.frame.DataFrame'>\n",
            "Int64Index: 1275 entries, 1716 to 1653\n",
            "Data columns (total 21 columns):\n",
            " #   Column    Non-Null Count  Dtype  \n",
            "---  ------    --------------  -----  \n",
            " 0   LBE       1275 non-null   int64  \n",
            " 1   AC        1275 non-null   int64  \n",
            " 2   FM        1275 non-null   int64  \n",
            " 3   UC        1275 non-null   int64  \n",
            " 4   ASTV      1275 non-null   int64  \n",
            " 5   MSTV      1275 non-null   float64\n",
            " 6   ALTV      1275 non-null   int64  \n",
            " 7   MLTV      1275 non-null   float64\n",
            " 8   DL        1275 non-null   int64  \n",
            " 9   DS        1275 non-null   int64  \n",
            " 10  DP        1275 non-null   int64  \n",
            " 11  Width     1275 non-null   int64  \n",
            " 12  Min       1275 non-null   int64  \n",
            " 13  Max       1275 non-null   int64  \n",
            " 14  Nmax      1275 non-null   int64  \n",
            " 15  Nzeros    1275 non-null   int64  \n",
            " 16  Mode      1275 non-null   int64  \n",
            " 17  Mean      1275 non-null   int64  \n",
            " 18  Median    1275 non-null   int64  \n",
            " 19  Variance  1275 non-null   int64  \n",
            " 20  Tendency  1275 non-null   int64  \n",
            "dtypes: float64(2), int64(19)\n",
            "memory usage: 219.1 KB\n"
          ]
        }
      ]
    },
    {
      "cell_type": "markdown",
      "source": [
        "Como vemos, si pedimos información sobre el conjunto de datos de la variable `x_train`, vemos que el número de observaciones es 1275, justamente el 60% de las observaciones. Como ya hemos dicho, este porcentaje puede ser modificado o no dependiendo, por ejemplo, de la existencia de sobreajuste. "
      ],
      "metadata": {
        "id": "RMYsT_yQz0hy"
      }
    },
    {
      "cell_type": "markdown",
      "source": [
        "#Fase 3: Ajuste del algoritmo Naive Bayes"
      ],
      "metadata": {
        "id": "VN0brld4tw-r"
      }
    },
    {
      "cell_type": "markdown",
      "source": [
        "En el caso que nos ocupa, al ser la mayoría de las variables explicativas variables de tipo continua, tendremos que elegir la familia gaussiana para operar con Naive Bayes. Una vez ya hemos definido el conjunto de entrenamiento y de test en la fase de muestreo, procedemos a la modelización:\n",
        "\n"
      ],
      "metadata": {
        "id": "i_6ZF5hR1Vmg"
      }
    },
    {
      "cell_type": "code",
      "source": [
        "from sklearn.naive_bayes import GaussianNB\n",
        "gnb = GaussianNB()\n",
        "modelNB = gnb.fit(x_train, y_train.values.ravel())\n",
        "y_pred_train = modelNB.predict_proba(x_train)\n",
        "y_pred_test = modelNB.predict_proba(x_test)\n",
        "print(y_pred_train)"
      ],
      "metadata": {
        "colab": {
          "base_uri": "https://localhost:8080/"
        },
        "id": "kFcdh_LNt4-u",
        "outputId": "cad61f35-2e5c-420c-8fb6-e4c6455e2673"
      },
      "execution_count": null,
      "outputs": [
        {
          "output_type": "stream",
          "name": "stdout",
          "text": [
            "[[1.00000000e+00 9.87834636e-50]\n",
            " [9.99999821e-01 1.79307698e-07]\n",
            " [9.99864975e-01 1.35024570e-04]\n",
            " ...\n",
            " [9.99998899e-01 1.10055094e-06]\n",
            " [1.00000000e+00 3.99300304e-10]\n",
            " [8.62950885e-01 1.37049115e-01]]\n"
          ]
        }
      ]
    },
    {
      "cell_type": "markdown",
      "source": [
        "Lo que vemos al visualizar la variable creada `y_pred_test`son las probabilidades predichas por el modelo asociadas a cada categoría de la variable `Target`. Esto nos servirá posteriormente para la validación del modelo con la curva ROC."
      ],
      "metadata": {
        "id": "mfX642MIHyQu"
      }
    },
    {
      "cell_type": "markdown",
      "source": [
        "#Fase 4: Ajuste del algoritmo de Support Vector Machine"
      ],
      "metadata": {
        "id": "oATuhYihYj2o"
      }
    },
    {
      "cell_type": "markdown",
      "source": [
        "Con el conjunto de datos de test y de entrenamiento obtenidos anteriormente en el segundo sprint, procederemos a su ajuste. En primer lugar, importamos los paquetes necesarios para llevar a cabo el modelo además de los ya cargados en los sprints anteriores:"
      ],
      "metadata": {
        "id": "zucYCMsuYqpo"
      }
    },
    {
      "cell_type": "code",
      "source": [
        "from sklearn import svm\n",
        "from sklearn.svm import SVC\n",
        "from sklearn.metrics import accuracy_score\n"
      ],
      "metadata": {
        "id": "sExlkBJdZNCP"
      },
      "execution_count": null,
      "outputs": []
    },
    {
      "cell_type": "markdown",
      "source": [
        "Pasamos al ajuste del modelo del algoritmo. Estableceremos, en primer lugar, unos hiperparámetros iniciales para llevar a cabo un ajuste SVM lineal. Posteriormente, veremos cómo elegir la mejor combinación de hiperparámetros."
      ],
      "metadata": {
        "id": "d-G6BgTCK2dn"
      }
    },
    {
      "cell_type": "code",
      "source": [
        "svmLineal = svm.SVC(C = 1, kernel = 'linear',\n",
        "                    degree = 1,\n",
        "                    probability = True)\n",
        "#El valor de \"C\" hace referencia a la regularización\n",
        "#El valor de \"kernel\" es la transformación que se aplica a las variables\n",
        "#El degree es el grado del polinomio. Como es lineal, en este caso da igual ponerlo.\n",
        "#Con \"probability = True\" obtenemos una probabilidad por cada clase\n",
        "\n",
        "svmLineal.fit(x_train, y_train)"
      ],
      "metadata": {
        "colab": {
          "base_uri": "https://localhost:8080/"
        },
        "id": "0beIponqaAEn",
        "outputId": "79c720d2-11ec-4ffa-e9ae-cae3bc67e5c6"
      },
      "execution_count": null,
      "outputs": [
        {
          "output_type": "stream",
          "name": "stderr",
          "text": [
            "/usr/local/lib/python3.7/dist-packages/sklearn/utils/validation.py:993: DataConversionWarning: A column-vector y was passed when a 1d array was expected. Please change the shape of y to (n_samples, ), for example using ravel().\n",
            "  y = column_or_1d(y, warn=True)\n"
          ]
        },
        {
          "output_type": "execute_result",
          "data": {
            "text/plain": [
              "SVC(C=1, degree=1, kernel='linear', probability=True)"
            ]
          },
          "metadata": {},
          "execution_count": 17
        }
      ]
    },
    {
      "cell_type": "markdown",
      "source": [
        "Una vez ajustados los modelos correspondientes a los dos algoritmos, pasamos a su validación con la curva ROC y la comparación entre ambos."
      ],
      "metadata": {
        "id": "2yhB9lY4PP0P"
      }
    },
    {
      "cell_type": "markdown",
      "source": [
        "#Fase 5: Validación del algoritmo Naive Bayes y SVM y comparación"
      ],
      "metadata": {
        "id": "XbQPSRe5ujvl"
      }
    },
    {
      "cell_type": "markdown",
      "source": [
        "##Validación de Naive Bayes con curva ROC"
      ],
      "metadata": {
        "id": "2LaHt0RNN2Ju"
      }
    },
    {
      "cell_type": "markdown",
      "source": [
        "Especificamos las variables para la creación de la curva ROC y el AUC, tanto en la parte del entrenamiento como en la parte de test:"
      ],
      "metadata": {
        "id": "eaQArzOawu7B"
      }
    },
    {
      "cell_type": "code",
      "source": [
        "from sklearn.metrics import roc_auc_score\n",
        "from sklearn.metrics import roc_curve, auc\n",
        "\n",
        "#fpr = false positive rate\n",
        "#tpr = true positive rate\n",
        "fpr_train, tpr_train, _ = roc_curve (y_train, y_pred_train[:, 1])\n",
        "roc_auc_train = auc(fpr_train, tpr_train)\n",
        "\n",
        "fpr_test, tpr_test, _ = roc_curve(y_test, y_pred_test[:,1])\n",
        "roc_auc_test = auc(fpr_test, tpr_test)"
      ],
      "metadata": {
        "id": "0mzucXy6umkG"
      },
      "execution_count": null,
      "outputs": []
    },
    {
      "cell_type": "markdown",
      "source": [
        "Una vez definidas las variables correspondientes al subconjunto de entrenamiento y de test, pasamos a la graficación de la curva ROC:"
      ],
      "metadata": {
        "id": "eaT8YGvXxq6m"
      }
    },
    {
      "cell_type": "code",
      "source": [
        "plt.figure()\n",
        "lw = 2\n",
        "\n",
        "plt.plot(fpr_train, tpr_train, color = \"darkgreen\", lw=lw, \n",
        "          label = \"ROC curve (area = %0.2f)\" % roc_auc_train)\n",
        "plt.plot(fpr_test,tpr_test, color = \"darkred\", lw=lw,\n",
        "         label = \"ROC curve (area = %0.2f)\" % roc_auc_test)\n",
        "\n",
        "plt.plot([0,1], [0, 1], color = \"navy\", lw=lw, linestyle = \"--\")\n",
        "plt.xlim([0.0, 1.0])\n",
        "plt.ylim ([0.0, 1.05])\n",
        "plt.xlabel (\"False Positive Rate\")\n",
        "plt.ylabel (\"True Positive Rate\")\n",
        "plt.title (\"ROC\")\n",
        "plt.legend(loc = \"lower right\")\n",
        "plt.show()"
      ],
      "metadata": {
        "colab": {
          "base_uri": "https://localhost:8080/",
          "height": 376
        },
        "id": "GaGdzvCCvGp9",
        "outputId": "1b0d97da-2e33-429d-a63d-6cf1dc62f386"
      },
      "execution_count": null,
      "outputs": [
        {
          "output_type": "display_data",
          "data": {
            "text/plain": [
              "<Figure size 576x396 with 1 Axes>"
            ],
            "image/png": "[encoded data removed]"
          },
          "metadata": {}
        }
      ]
    },
    {
      "cell_type": "markdown",
      "source": [
        "Como vemos, hemos obtenido un área bajo la curva de 0.95 para el conjunto de entrnamiento y de 0.93 para el conjunto de test, lo que significa que nuestro modelo posee un gran poder predictivo, pues una curva de valor 1 significaría que estamos ante un modelo con una capacidad predictiva perfecta.\n",
        "\n",
        "Cabe destacar que existe un poco de sobreajuste, algo que podemos ver en la diferencia de 0.02 en el área bajo la curva entre el subconjunto de entrenamiento y test y visualmente en algunos puntos donde las curvas se separan. Igualmente, no es un sobreajuste demasiado llamativo como para tener que tomar medidas al respecto."
      ],
      "metadata": {
        "id": "D2t7srpMyTix"
      }
    },
    {
      "cell_type": "markdown",
      "source": [
        "##Validación del modelo SVM con curva ROC y AUC"
      ],
      "metadata": {
        "id": "uQUDZbzwa3MB"
      }
    },
    {
      "cell_type": "markdown",
      "source": [
        "Especificamos las variables para la creación de la curva ROC y el AUC, tanto en la parte del entrenamiento como en la parte de test:"
      ],
      "metadata": {
        "id": "egd8eIWa3OSX"
      }
    },
    {
      "cell_type": "code",
      "source": [
        "y_proba_train_svm = svmLineal.predict_proba(x_train)\n",
        "y_proba_test_svm = svmLineal.predict_proba(x_test)"
      ],
      "metadata": {
        "id": "RT0zq6kvbBKR"
      },
      "execution_count": null,
      "outputs": []
    },
    {
      "cell_type": "code",
      "source": [
        "#Train\n",
        "fpr_train_svm, tpr_train_svm, _ = roc_curve(y_train, y_proba_train_svm [:, 1])\n",
        "roc_auc_train_svm = auc(fpr_train_svm, tpr_train_svm)\n",
        "\n",
        "#Test\n",
        "fpr_test_svm, tpr_test_svm,_ = roc_curve(y_test, y_proba_test_svm [:, 1])\n",
        "roc_auc_test_svm = auc(fpr_test_svm, tpr_test_svm)"
      ],
      "metadata": {
        "id": "-7Jtv4VXbnpz"
      },
      "execution_count": null,
      "outputs": []
    },
    {
      "cell_type": "markdown",
      "source": [
        "Definimos la curva ROC y el AUC con las variables anteriormente especificadas tanto para entrenamiento como para test:"
      ],
      "metadata": {
        "id": "5hYctiUxuBDG"
      }
    },
    {
      "cell_type": "code",
      "source": [
        "plt.figure()\n",
        "lw = 2\n",
        "\n",
        "plt.plot(fpr_train_svm, tpr_train_svm, color = 'darkgreen', lw = lw, label = 'ROC curve (area = %0.2f)' % roc_auc_train_svm,)\n",
        "plt.plot(fpr_test_svm, tpr_test_svm, color = 'darkred', lw = lw, label = 'ROC curve area (area = %0.2f)' % roc_auc_test_svm,)\n",
        "\n",
        "plt.plot([0,1], [0,1], color = 'navy', lw = lw, linestyle = '--')\n",
        "plt.xlim([0.0, 1.0])\n",
        "plt.ylim([0.0, 1.05])\n",
        "plt.xlabel('False Positive Rate')\n",
        "plt.ylabel('True Positive Rate')\n",
        "plt.title('ROC')\n",
        "plt.legend(loc = 'lower right')\n",
        "plt.show()"
      ],
      "metadata": {
        "id": "i4zj68ABcr7X",
        "colab": {
          "base_uri": "https://localhost:8080/",
          "height": 376
        },
        "outputId": "af711894-a896-4504-80c2-2cf77299b3bd"
      },
      "execution_count": null,
      "outputs": [
        {
          "output_type": "display_data",
          "data": {
            "text/plain": [
              "<Figure size 576x396 with 1 Axes>"
            ],
            "image/png": "[encoded data removed]"
          },
          "metadata": {}
        }
      ]
    },
    {
      "cell_type": "markdown",
      "source": [
        "Podemos decir que el ajuste es muy bueno y que mejora con respecto al anterior ajuste de SVM. Esta vez el conjunto de entrenamiento tiene un AUC de 0.97 y el AUC de test tiene un 0.96. Claramente es una mejora en la capacidad prediectiva con respecto al modelo de Naive Bayes, y tenemos menos sobreajuste, siendo la diferencia de AUC entre entrenamiento y test es solamente de 0.01. "
      ],
      "metadata": {
        "id": "H8TZvWgSuHym"
      }
    },
    {
      "cell_type": "markdown",
      "source": [
        "##Comparación del resultado obtenido de SVM con la curva ROC y AUC obtenido con Naive Bayes"
      ],
      "metadata": {
        "id": "LeTEXtGD33_Z"
      }
    },
    {
      "cell_type": "code",
      "source": [
        "plt.figure()\n",
        "lw = 2\n",
        "\n",
        "plt.plot(fpr_test,tpr_test, color = \"salmon\", lw=lw, label = \"NB ROC Test curve (area = %0.2f)\" % roc_auc_test)\n",
        "plt.plot(fpr_train, tpr_train, color = \"lime\", lw=lw, \n",
        "          label = \"NB ROC Training curve (area = %0.2f)\" % roc_auc_train)\n",
        "plt.plot(fpr_test_svm, tpr_test_svm, color = 'darkred', lw = lw, label = 'SVM ROC Test curve area (area = %0.2f)' % roc_auc_test_svm,)\n",
        "plt.plot(fpr_train_svm, tpr_train_svm, color = 'darkgreen', lw = lw, label = 'SVM ROC Training curve (area = %0.2f)' % roc_auc_train_svm,)\n",
        "\n",
        "\n",
        "plt.plot([0,1], [0,1], color = 'navy', lw = lw, linestyle = '--')\n",
        "plt.xlim([0.0, 1.0])\n",
        "plt.ylim([0.0, 1.05])\n",
        "plt.xlabel('False Positive Rate')\n",
        "plt.ylabel('True Positive Rate')\n",
        "plt.title('ROC')\n",
        "plt.legend(loc = 'lower right')\n",
        "plt.show()"
      ],
      "metadata": {
        "colab": {
          "base_uri": "https://localhost:8080/",
          "height": 376
        },
        "id": "aRN0tWyUR50i",
        "outputId": "3cc38807-34ad-4eba-a1ed-bb7b07fea24e"
      },
      "execution_count": null,
      "outputs": [
        {
          "output_type": "display_data",
          "data": {
            "text/plain": [
              "<Figure size 576x396 with 1 Axes>"
            ],
            "image/png": "[encoded data removed]"
          },
          "metadata": {}
        }
      ]
    },
    {
      "cell_type": "code",
      "source": [
        "from google.colab import drive\n",
        "drive.mount('/content/drive')"
      ],
      "metadata": {
        "colab": {
          "base_uri": "https://localhost:8080/"
        },
        "id": "SkyHblEuSbCC",
        "outputId": "4263c286-980e-401d-de51-89a73545279a"
      },
      "execution_count": null,
      "outputs": [
        {
          "output_type": "stream",
          "name": "stdout",
          "text": [
            "Mounted at /content/drive\n"
          ]
        }
      ]
    },
    {
      "cell_type": "markdown",
      "source": [
        "Como vemos, esta vez el resultado obtenido con SVM es mejor que el obtenido con Naive Bayes. Concretamente, podemos ver que existe menor sobreajuste en el modelo de SVM que en el de Naive Bayes, al mismo tiempo que tenemos un mejor ajuste tanto con el conjunto de entrenamiento como con el de test (una diferencia de 0.02 de AUC en el conjunto de entrenamiento y una diferencia de 0.03 de AUC en el conjunto de test). "
      ],
      "metadata": {
        "id": "FeLSzolc4Vtd"
      }
    },
    {
      "cell_type": "markdown",
      "source": [
        "#Fase aidicional: Mejor combinación de hiperparámetros para el algoritmo SVM utilizando la función Grid Search de Scikit Learn"
      ],
      "metadata": {
        "id": "irP_pboJ1jlA"
      }
    },
    {
      "cell_type": "markdown",
      "source": [
        "Ante algoritmos complejos como el caso de SVM, donde tenemos un amplio abaico de hiperparámetros, poder conocer la mejor combinación de los mismos para ejecutar el mejor modelo posible es algo que nos ahorra mucho tiempo. Con la función GridSearchCV podemos hacerlo fácilmente. \n",
        "\n",
        "A continuación, se especifica para el algoritmo SVM una combinación de hiperparámetros para comprobar cuál es la mejor:"
      ],
      "metadata": {
        "id": "k0tq__FnQT3P"
      }
    },
    {
      "cell_type": "code",
      "source": [
        "from sklearn.model_selection import GridSearchCV"
      ],
      "metadata": {
        "id": "Gvwsx3e_QTe6"
      },
      "execution_count": null,
      "outputs": []
    },
    {
      "cell_type": "code",
      "source": [
        "param_grid = [\n",
        "              {'kernel': ['rbf'], 'gamma': [1e-3, 1e-4], 'C': [0.1,1,10]},\n",
        "              {'kernel':['linear'], 'C':[0.1,1,10]},\n",
        "              {'kernel':['poly'], 'C':[0.1,1,10], 'degree':[2,3,4]}\n",
        "]\n",
        "\n",
        "grid = GridSearchCV(\n",
        "    estimator = SVC(),\n",
        "    param_grid = param_grid,\n",
        "    scoring = 'roc_auc',\n",
        "    n_jobs =-1,\n",
        "    cv = 3,\n",
        "    verbose = 0,\n",
        "    return_train_score = True\n",
        ")\n",
        "grid.fit(X = x_train, y = y_train)"
      ],
      "metadata": {
        "colab": {
          "base_uri": "https://localhost:8080/"
        },
        "id": "3zqUj6UeQb_R",
        "outputId": "24e5f10c-52c9-417c-c369-ff643cf4ef0a"
      },
      "execution_count": null,
      "outputs": [
        {
          "output_type": "stream",
          "name": "stderr",
          "text": [
            "/usr/local/lib/python3.7/dist-packages/sklearn/utils/validation.py:993: DataConversionWarning: A column-vector y was passed when a 1d array was expected. Please change the shape of y to (n_samples, ), for example using ravel().\n",
            "  y = column_or_1d(y, warn=True)\n"
          ]
        },
        {
          "output_type": "execute_result",
          "data": {
            "text/plain": [
              "GridSearchCV(cv=3, estimator=SVC(), n_jobs=-1,\n",
              "             param_grid=[{'C': [0.1, 1, 10], 'gamma': [0.001, 0.0001],\n",
              "                          'kernel': ['rbf']},\n",
              "                         {'C': [0.1, 1, 10], 'kernel': ['linear']},\n",
              "                         {'C': [0.1, 1, 10], 'degree': [2, 3, 4],\n",
              "                          'kernel': ['poly']}],\n",
              "             return_train_score=True, scoring='roc_auc')"
            ]
          },
          "metadata": {},
          "execution_count": 30
        }
      ]
    },
    {
      "cell_type": "code",
      "source": [
        "results = pd.DataFrame(grid.cv_results_)\n",
        "results.filter(regex = '(param.*|mean_t|std_t)')\\\n",
        ".drop(columns = 'params')\\\n",
        ".sort_values('mean_test_score', ascending = False)\\\n",
        ".head(10)"
      ],
      "metadata": {
        "colab": {
          "base_uri": "https://localhost:8080/",
          "height": 363
        },
        "id": "X_Kb3klsVa7c",
        "outputId": "98f8c9c9-3ee2-4ea0-e10f-9a26b29862c9"
      },
      "execution_count": null,
      "outputs": [
        {
          "output_type": "execute_result",
          "data": {
            "text/plain": [
              "   param_C param_gamma param_kernel param_degree  mean_test_score  \\\n",
              "7        1         NaN       linear          NaN         0.961140   \n",
              "5       10      0.0001          rbf          NaN         0.960422   \n",
              "6      0.1         NaN       linear          NaN         0.959171   \n",
              "8       10         NaN       linear          NaN         0.957626   \n",
              "3        1      0.0001          rbf          NaN         0.949020   \n",
              "4       10       0.001          rbf          NaN         0.947823   \n",
              "17      10         NaN         poly            4         0.945734   \n",
              "2        1       0.001          rbf          NaN         0.944961   \n",
              "16      10         NaN         poly            3         0.942557   \n",
              "15      10         NaN         poly            2         0.937084   \n",
              "\n",
              "    std_test_score  mean_train_score  std_train_score  \n",
              "7         0.009888          0.971758         0.004486  \n",
              "5         0.005075          0.982315         0.001190  \n",
              "6         0.011102          0.968995         0.006302  \n",
              "8         0.012830          0.971892         0.004544  \n",
              "3         0.008383          0.962050         0.001849  \n",
              "4         0.005539          0.998932         0.000856  \n",
              "17        0.011929          0.961248         0.005056  \n",
              "2         0.004728          0.988773         0.000816  \n",
              "16        0.010176          0.952633         0.005858  \n",
              "15        0.009289          0.944851         0.004812  "
            ],
            "text/html": [
              "\n",
              "  <div id=\"df-4aee9bb0-2ab1-42a2-8c9e-53aa97b22654\">\n",
              "    <div class=\"colab-df-container\">\n",
              "      <div>\n",
              "<style scoped>\n",
              "    .dataframe tbody tr th:only-of-type {\n",
              "        vertical-align: middle;\n",
              "    }\n",
              "\n",
              "    .dataframe tbody tr th {\n",
              "        vertical-align: top;\n",
              "    }\n",
              "\n",
              "    .dataframe thead th {\n",
              "        text-align: right;\n",
              "    }\n",
              "</style>\n",
              "<table border=\"1\" class=\"dataframe\">\n",
              "  <thead>\n",
              "    <tr style=\"text-align: right;\">\n",
              "      <th></th>\n",
              "      <th>param_C</th>\n",
              "      <th>param_gamma</th>\n",
              "      <th>param_kernel</th>\n",
              "      <th>param_degree</th>\n",
              "      <th>mean_test_score</th>\n",
              "      <th>std_test_score</th>\n",
              "      <th>mean_train_score</th>\n",
              "      <th>std_train_score</th>\n",
              "    </tr>\n",
              "  </thead>\n",
              "  <tbody>\n",
              "    <tr>\n",
              "      <th>7</th>\n",
              "      <td>1</td>\n",
              "      <td>NaN</td>\n",
              "      <td>linear</td>\n",
              "      <td>NaN</td>\n",
              "      <td>0.961140</td>\n",
              "      <td>0.009888</td>\n",
              "      <td>0.971758</td>\n",
              "      <td>0.004486</td>\n",
              "    </tr>\n",
              "    <tr>\n",
              "      <th>5</th>\n",
              "      <td>10</td>\n",
              "      <td>0.0001</td>\n",
              "      <td>rbf</td>\n",
              "      <td>NaN</td>\n",
              "      <td>0.960422</td>\n",
              "      <td>0.005075</td>\n",
              "      <td>0.982315</td>\n",
              "      <td>0.001190</td>\n",
              "    </tr>\n",
              "    <tr>\n",
              "      <th>6</th>\n",
              "      <td>0.1</td>\n",
              "      <td>NaN</td>\n",
              "      <td>linear</td>\n",
              "      <td>NaN</td>\n",
              "      <td>0.959171</td>\n",
              "      <td>0.011102</td>\n",
              "      <td>0.968995</td>\n",
              "      <td>0.006302</td>\n",
              "    </tr>\n",
              "    <tr>\n",
              "      <th>8</th>\n",
              "      <td>10</td>\n",
              "      <td>NaN</td>\n",
              "      <td>linear</td>\n",
              "      <td>NaN</td>\n",
              "      <td>0.957626</td>\n",
              "      <td>0.012830</td>\n",
              "      <td>0.971892</td>\n",
              "      <td>0.004544</td>\n",
              "    </tr>\n",
              "    <tr>\n",
              "      <th>3</th>\n",
              "      <td>1</td>\n",
              "      <td>0.0001</td>\n",
              "      <td>rbf</td>\n",
              "      <td>NaN</td>\n",
              "      <td>0.949020</td>\n",
              "      <td>0.008383</td>\n",
              "      <td>0.962050</td>\n",
              "      <td>0.001849</td>\n",
              "    </tr>\n",
              "    <tr>\n",
              "      <th>4</th>\n",
              "      <td>10</td>\n",
              "      <td>0.001</td>\n",
              "      <td>rbf</td>\n",
              "      <td>NaN</td>\n",
              "      <td>0.947823</td>\n",
              "      <td>0.005539</td>\n",
              "      <td>0.998932</td>\n",
              "      <td>0.000856</td>\n",
              "    </tr>\n",
              "    <tr>\n",
              "      <th>17</th>\n",
              "      <td>10</td>\n",
              "      <td>NaN</td>\n",
              "      <td>poly</td>\n",
              "      <td>4</td>\n",
              "      <td>0.945734</td>\n",
              "      <td>0.011929</td>\n",
              "      <td>0.961248</td>\n",
              "      <td>0.005056</td>\n",
              "    </tr>\n",
              "    <tr>\n",
              "      <th>2</th>\n",
              "      <td>1</td>\n",
              "      <td>0.001</td>\n",
              "      <td>rbf</td>\n",
              "      <td>NaN</td>\n",
              "      <td>0.944961</td>\n",
              "      <td>0.004728</td>\n",
              "      <td>0.988773</td>\n",
              "      <td>0.000816</td>\n",
              "    </tr>\n",
              "    <tr>\n",
              "      <th>16</th>\n",
              "      <td>10</td>\n",
              "      <td>NaN</td>\n",
              "      <td>poly</td>\n",
              "      <td>3</td>\n",
              "      <td>0.942557</td>\n",
              "      <td>0.010176</td>\n",
              "      <td>0.952633</td>\n",
              "      <td>0.005858</td>\n",
              "    </tr>\n",
              "    <tr>\n",
              "      <th>15</th>\n",
              "      <td>10</td>\n",
              "      <td>NaN</td>\n",
              "      <td>poly</td>\n",
              "      <td>2</td>\n",
              "      <td>0.937084</td>\n",
              "      <td>0.009289</td>\n",
              "      <td>0.944851</td>\n",
              "      <td>0.004812</td>\n",
              "    </tr>\n",
              "  </tbody>\n",
              "</table>\n",
              "</div>\n",
              "      <button class=\"colab-df-convert\" onclick=\"convertToInteractive('df-4aee9bb0-2ab1-42a2-8c9e-53aa97b22654')\"\n",
              "              title=\"Convert this dataframe to an interactive table.\"\n",
              "              style=\"display:none;\">\n",
              "        \n",
              "  <svg xmlns=\"http://www.w3.org/2000/svg\" height=\"24px\"viewBox=\"0 0 24 24\"\n",
              "       width=\"24px\">\n",
              "    <path d=\"M0 0h24v24H0V0z\" fill=\"none\"/>\n",
              "    <path d=\"M18.56 5.44l.94 2.06.94-2.06 2.06-.94-2.06-.94-.94-2.06-.94 2.06-2.06.94zm-11 1L8.5 8.5l.94-2.06 2.06-.94-2.06-.94L8.5 2.5l-.94 2.06-2.06.94zm10 10l.94 2.06.94-2.06 2.06-.94-2.06-.94-.94-2.06-.94 2.06-2.06.94z\"/><path d=\"M17.41 7.96l-1.37-1.37c-.4-.4-.92-.59-1.43-.59-.52 0-1.04.2-1.43.59L10.3 9.45l-7.72 7.72c-.78.78-.78 2.05 0 2.83L4 21.41c.39.39.9.59 1.41.59.51 0 1.02-.2 1.41-.59l7.78-7.78 2.81-2.81c.8-.78.8-2.07 0-2.86zM5.41 20L4 18.59l7.72-7.72 1.47 1.35L5.41 20z\"/>\n",
              "  </svg>\n",
              "      </button>\n",
              "      \n",
              "  <style>\n",
              "    .colab-df-container {\n",
              "      display:flex;\n",
              "      flex-wrap:wrap;\n",
              "      gap: 12px;\n",
              "    }\n",
              "\n",
              "    .colab-df-convert {\n",
              "      background-color: #E8F0FE;\n",
              "      border: none;\n",
              "      border-radius: 50%;\n",
              "      cursor: pointer;\n",
              "      display: none;\n",
              "      fill: #1967D2;\n",
              "      height: 32px;\n",
              "      padding: 0 0 0 0;\n",
              "      width: 32px;\n",
              "    }\n",
              "\n",
              "    .colab-df-convert:hover {\n",
              "      background-color: #E2EBFA;\n",
              "      box-shadow: 0px 1px 2px rgba(60, 64, 67, 0.3), 0px 1px 3px 1px rgba(60, 64, 67, 0.15);\n",
              "      fill: #174EA6;\n",
              "    }\n",
              "\n",
              "    [theme=dark] .colab-df-convert {\n",
              "      background-color: #3B4455;\n",
              "      fill: #D2E3FC;\n",
              "    }\n",
              "\n",
              "    [theme=dark] .colab-df-convert:hover {\n",
              "      background-color: #434B5C;\n",
              "      box-shadow: 0px 1px 3px 1px rgba(0, 0, 0, 0.15);\n",
              "      filter: drop-shadow(0px 1px 2px rgba(0, 0, 0, 0.3));\n",
              "      fill: #FFFFFF;\n",
              "    }\n",
              "  </style>\n",
              "\n",
              "      <script>\n",
              "        const buttonEl =\n",
              "          document.querySelector('#df-4aee9bb0-2ab1-42a2-8c9e-53aa97b22654 button.colab-df-convert');\n",
              "        buttonEl.style.display =\n",
              "          google.colab.kernel.accessAllowed ? 'block' : 'none';\n",
              "\n",
              "        async function convertToInteractive(key) {\n",
              "          const element = document.querySelector('#df-4aee9bb0-2ab1-42a2-8c9e-53aa97b22654');\n",
              "          const dataTable =\n",
              "            await google.colab.kernel.invokeFunction('convertToInteractive',\n",
              "                                                     [key], {});\n",
              "          if (!dataTable) return;\n",
              "\n",
              "          const docLinkHtml = 'Like what you see? Visit the ' +\n",
              "            '<a target=\"_blank\" href=https://colab.research.google.com/notebooks/data_table.ipynb>data table notebook</a>'\n",
              "            + ' to learn more about interactive tables.';\n",
              "          element.innerHTML = '';\n",
              "          dataTable['output_type'] = 'display_data';\n",
              "          await google.colab.output.renderOutput(dataTable, element);\n",
              "          const docLink = document.createElement('div');\n",
              "          docLink.innerHTML = docLinkHtml;\n",
              "          element.appendChild(docLink);\n",
              "        }\n",
              "      </script>\n",
              "    </div>\n",
              "  </div>\n",
              "  "
            ]
          },
          "metadata": {},
          "execution_count": 33
        }
      ]
    },
    {
      "cell_type": "markdown",
      "source": [
        "Como vemos, las mejores medidas tanto para el conjunto de test como para el conjunto de entrenamento se consiguen con un kernel lineal y un parámetro C = 1. Vemos que también es posible aplicar otras combinaciones de forma que tampoco difiera demasiado el resultado, pero tenemos que tener mucho cuidado con el aumento del sobreajuste. En el caso de de la combinación número 4 vemos que tenemos una diferencia entre el conjunto de test y de entrenamiento de casi 0.05. "
      ],
      "metadata": {
        "id": "x0JBLMZPhJbq"
      }
    }
  ]
}